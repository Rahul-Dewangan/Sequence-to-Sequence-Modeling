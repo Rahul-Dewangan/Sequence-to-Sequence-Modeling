{
  "cells": [
    {
      "cell_type": "markdown",
      "metadata": {
        "id": "TZ39Vxvm7S0a"
      },
      "source": [
        "# Assignment 3: Sequence-to-Sequence Modeling (TA: Shivashish Naithani)\n",
        "\n",
        "In this assignment, you will perform the task of translating Indian Names to English, a sequence-to-sequence modeling task, using character-level conditional language models.\n",
        "\n",
        "As before, please make a copy of this notebook (locally or on Colab). Ensure you adhere to the guidelines and submission instructions (mentioned below) for attempting and submitting the assignment."
      ]
    },
    {
      "cell_type": "markdown",
      "metadata": {
        "id": "uysmp8X-7S0i"
      },
      "source": [
        "### Guidelines for Attempting the Assignment"
      ]
    },
    {
      "cell_type": "markdown",
      "metadata": {
        "id": "E_vklna37S0j"
      },
      "source": [
        "1. Write your logic in the cells which have the comment `# ADD YOUR CODE HERE`, between the `# BEGIN CODE` and `# END CODE` comments. These cells are also demarcated by the special start (`## ==== BEGIN EVALUATION PORTION`) and end (`## ==== END EVALUATION PORTION`) comments. Do **NOT** remove any of these comments from the designated cells, otherwise your assigment may not be evaluated correctly.\n",
        "\n",
        "2. All imports that should be necessary are already provided as part of the notebook. Should you require additional imports, add them in the cells to be graded, but outside the `# BEGIN CODE` and `# END CODE` block. For example, if you need to import a package called `mypackage`, add it as follows in a graded cell:\n",
        "\n",
        "``` python\n",
        "## ==== BEGIN EVALUATION PORTION\n",
        "\n",
        "import mypackage # <===\n",
        "\n",
        "def function_to_be_implemented(*args, **kwargs):\n",
        "\n",
        "    ...\n",
        "\n",
        "    # ADD YOUR CODE HERE\n",
        "    # BEGIN CODE\n",
        "\n",
        "    # END CODE\n",
        "\n",
        "    ...\n",
        "\n",
        "## ==== END EVALUATION PORTION\n",
        "\n",
        "```\n",
        "4. Do not modify anything in the cells which start with `# Please do not change anything in the following cell`.\n",
        "\n",
        "5. Only write your code in the cells designated for auto-evaluation. If you encounter any errors in the supporting cells during execution, contact the respective TAs.\n",
        "\n",
        "6. **Important**: Use of AI-assistive technologies such as ChatGPT or GitHub CoPilot is not permitted for this assignment. Ensure that all attempts are solely your own. Not following this rule can incur heavy penalty, including getting NO GRADE for this assignment, which will affect your grade significantly."
      ]
    },
    {
      "cell_type": "markdown",
      "metadata": {
        "id": "sK3moP9d7S0l"
      },
      "source": [
        "### Submission Instructions"
      ]
    },
    {
      "cell_type": "markdown",
      "metadata": {
        "id": "g1Y-T9hT7S0m"
      },
      "source": [
        "1. Ensure your code follows all guidelines mentioned above before submission.\n",
        "\n",
        "2. Try to avoid any unnecessary print statements across the code. We will evaluate specific output lines which begin with the phrase `EVALUATION`. Ensure you do not modify these print statements howsoever, as they are used for auto-evaluation.\n",
        "\n",
        "3. When you have completely attempted the assignment, export the current notebook as a `.py` file, with the following name: `SAPName_SRNo_assignment3.py`, where `SAPName` would be your name as per SAP record, and `SRNo` will be the last 5 digits of your IISc SR number. For example, IISc student with SAP name Twyla Linda (SR no - 04-03-00-10-22-20-1-15329) would use `Twyla_Linda_15329_assignment3.py`.\n",
        "\n",
        "4. Once you have executed the code, certain additional files will be created. Once you are done executing all associated cells, ensure the folder structure looks as follows:\n",
        "\n",
        "``` python\n",
        "└─── SAPName_SRNo\n",
        "     ├─── SAPName_SRNo_assignment3.py\n",
        "     ├─── src-tokenizer\n",
        "     │    └─── tokenizer.pkl\n",
        "     ├─── tgt-tokenizer\n",
        "     │    └─── tokenizer.pkl\n",
        "     ├─── rnn.enc-dec\n",
        "     │    ├─── model.pt\n",
        "     │    ├─── loss.json\n",
        "     │    ├─── outputs.csv\n",
        "     │    └─── metadata.json\n",
        "     └─── rnn.enc-dec.attn\n",
        "          ├─── model.pt\n",
        "          ├─── loss.json\n",
        "          ├─── outputs.csv\n",
        "          └─── metadata.json\n",
        "```\n",
        "\n",
        "5. Once you have validated the folder structure as above, add the exported `.py` file to the folder and submit the folder as a ZIP archive."
      ]
    },
    {
      "cell_type": "markdown",
      "metadata": {
        "id": "JWNGKx3C7S0n"
      },
      "source": [
        "In the cell below, replace `SAPName` with your name as per SAP record, and `SRNo` with the last 5 digits of your IISc SR number. For example, IISc student with SAP name Twyla Linda (SR no - 04-03-00-10-22-20-1-15329) would use:\n",
        "\n",
        "```python\n",
        "STUDENT_SAP_NAME  = \"Twyla Linda\"\n",
        "STUDENT_SR_NUMBER = \"15329\"\n",
        "```"
      ]
    },
    {
      "cell_type": "code",
      "execution_count": 1,
      "metadata": {
        "id": "juYQICX47S0p"
      },
      "outputs": [],
      "source": [
        "STUDENT_SAP_NAME  = \"Rahul Dewangan\"\n",
        "STUDENT_SR_NUMBER = \"24670\""
      ]
    },
    {
      "cell_type": "markdown",
      "metadata": {
        "id": "9JmPFqkT7S0r"
      },
      "source": [
        "**Important Notes**:\n",
        "\n",
        "- Some of the tasks in this assignment are compute intensive, and are better performed on an accelerator device (GPU, etc.). Unless you have one locally, prefer using a GPU instance on Colab for execution.\n",
        "- Due to resource restrictions on Colab, training some models may not finish in time. In such a case, ensure you store checkpoints to a persistent directory so that you may resume training once your resource limits are restored."
      ]
    },
    {
      "cell_type": "markdown",
      "metadata": {
        "id": "puFcXNQD2ItL"
      },
      "source": []
    },
    {
      "cell_type": "markdown",
      "metadata": {
        "id": "TbZjfBWF7S0t"
      },
      "source": [
        "## Outline"
      ]
    },
    {
      "cell_type": "markdown",
      "metadata": {
        "id": "lQVZHQIJ7S0t"
      },
      "source": [
        "Through the last assignment, you have seen that neural language models are able to successfully capture patterns across Indian names. In this assignment, you will extend upon that idea to learn conditional language models for the task of transliteration: converting Indian names in the English alphabet to Hindi."
      ]
    },
    {
      "cell_type": "markdown",
      "metadata": {
        "id": "ElSrTdBy7S0u"
      },
      "source": [
        "### Marks Distribution\n",
        "\n",
        "- Agnostic Task-Specific Training: 5 marks\n",
        "- Seq-2-Seq via RNN: 40 marks\n",
        "- Seq-2-Seq via RNN with Attention: 35 marks\n",
        "- Evaluation\n",
        "- Decoding Strategy: 20 marks"
      ]
    },
    {
      "cell_type": "markdown",
      "metadata": {
        "id": "oeose21P7S0v"
      },
      "source": [
        "## Setup"
      ]
    },
    {
      "cell_type": "markdown",
      "metadata": {
        "id": "w1ApHWVd7S0v"
      },
      "source": [
        "The following cells perform the basic setup such as importing the necessary packages. You will not require any additional libraries, so importing any additional libraries is not allowed."
      ]
    },
    {
      "cell_type": "code",
      "execution_count": 2,
      "metadata": {
        "id": "m1rW15no7S0w"
      },
      "outputs": [
        {
          "name": "stdout",
          "output_type": "stream",
          "text": [
            "Requirement already satisfied: tqdm in /data1/home/drahul/.local/lib/python3.8/site-packages (4.67.1)\n",
            "Requirement already satisfied: nltk in /data1/home/drahul/.local/lib/python3.8/site-packages (3.9.1)\n",
            "Requirement already satisfied: matplotlib in /data1/home/drahul/.local/lib/python3.8/site-packages (3.7.5)\n",
            "Requirement already satisfied: numpy in /usr/local/lib/python3.8/dist-packages (1.23.5)\n",
            "Requirement already satisfied: pandas in /data1/home/drahul/.local/lib/python3.8/site-packages (2.0.3)\n",
            "Requirement already satisfied: regex>=2021.8.3 in /data1/home/drahul/.local/lib/python3.8/site-packages (from nltk) (2024.11.6)\n",
            "Requirement already satisfied: joblib in /data1/home/drahul/.local/lib/python3.8/site-packages (from nltk) (1.4.2)\n",
            "Requirement already satisfied: click in /usr/lib/python3/dist-packages (from nltk) (7.0)\n",
            "Requirement already satisfied: packaging>=20.0 in /usr/lib/python3/dist-packages (from matplotlib) (20.3)\n",
            "Requirement already satisfied: importlib-resources>=3.2.0; python_version < \"3.10\" in /data1/home/drahul/.local/lib/python3.8/site-packages (from matplotlib) (6.4.5)\n",
            "Requirement already satisfied: kiwisolver>=1.0.1 in /usr/lib/python3/dist-packages (from matplotlib) (1.0.1)\n",
            "Requirement already satisfied: contourpy>=1.0.1 in /data1/home/drahul/.local/lib/python3.8/site-packages (from matplotlib) (1.1.1)\n",
            "Requirement already satisfied: pillow>=6.2.0 in /usr/lib/python3/dist-packages (from matplotlib) (7.0.0)\n",
            "Requirement already satisfied: cycler>=0.10 in /usr/lib/python3/dist-packages (from matplotlib) (0.10.0)\n",
            "Requirement already satisfied: fonttools>=4.22.0 in /data1/home/drahul/.local/lib/python3.8/site-packages (from matplotlib) (4.57.0)\n",
            "Requirement already satisfied: python-dateutil>=2.7 in /data1/home/drahul/.local/lib/python3.8/site-packages (from matplotlib) (2.9.0.post0)\n",
            "Requirement already satisfied: pyparsing>=2.3.1 in /usr/lib/python3/dist-packages (from matplotlib) (2.4.6)\n",
            "Requirement already satisfied: tzdata>=2022.1 in /data1/home/drahul/.local/lib/python3.8/site-packages (from pandas) (2025.2)\n",
            "Requirement already satisfied: pytz>=2020.1 in /data1/home/drahul/.local/lib/python3.8/site-packages (from pandas) (2025.2)\n",
            "Requirement already satisfied: zipp>=3.1.0; python_version < \"3.10\" in /data1/home/drahul/.local/lib/python3.8/site-packages (from importlib-resources>=3.2.0; python_version < \"3.10\"->matplotlib) (3.20.2)\n",
            "Requirement already satisfied: six>=1.5 in /usr/lib/python3/dist-packages (from python-dateutil>=2.7->matplotlib) (1.14.0)\n",
            "Note: you may need to restart the kernel to use updated packages.\n"
          ]
        }
      ],
      "source": [
        "# Installs packages, if using locally. Feel free to add other missing packages as required.\n",
        "\n",
        "%pip install tqdm nltk matplotlib numpy pandas"
      ]
    },
    {
      "cell_type": "code",
      "execution_count": 3,
      "metadata": {
        "id": "NijuBljo7S0w"
      },
      "outputs": [],
      "source": [
        "# Built-in imports, no installations required.\n",
        "\n",
        "import os\n",
        "import gc\n",
        "import json\n",
        "import math\n",
        "import pickle\n",
        "import subprocess\n",
        "import collections\n",
        "import unicodedata"
      ]
    },
    {
      "cell_type": "code",
      "execution_count": 4,
      "metadata": {
        "id": "Z2liLT4Y7S0x"
      },
      "outputs": [
        {
          "name": "stderr",
          "output_type": "stream",
          "text": [
            "/data1/home/drahul/.local/lib/python3.8/site-packages/pandas/core/computation/expressions.py:20: UserWarning: Pandas requires version '2.7.3' or newer of 'numexpr' (version '2.7.1' currently installed).\n",
            "  from pandas.core.computation.check import NUMEXPR_INSTALLED\n",
            "/data1/home/drahul/.local/lib/python3.8/site-packages/tqdm/auto.py:21: TqdmWarning: IProgress not found. Please update jupyter and ipywidgets. See https://ipywidgets.readthedocs.io/en/stable/user_install.html\n",
            "  from .autonotebook import tqdm as notebook_tqdm\n"
          ]
        }
      ],
      "source": [
        "# 3rd-party package imports, may require installation if not on a platform such as Colab.\n",
        "\n",
        "import numpy\n",
        "import torch\n",
        "import pandas as pd\n",
        "import tqdm.auto as tqdm\n",
        "\n",
        "import matplotlib\n",
        "from matplotlib import pyplot\n",
        "from nltk.translate import bleu_score\n",
        "from torch.utils.data import TensorDataset, DataLoader"
      ]
    },
    {
      "cell_type": "code",
      "execution_count": 5,
      "metadata": {
        "id": "m3XUKaQ37S0x"
      },
      "outputs": [],
      "source": [
        "# Please do not change anything in the following cell\n",
        "\n",
        "# Find and load fonts that can display Hindi characters, for Matplotlib\n",
        "result = subprocess.run([ 'fc-list', ':lang=hi', 'family' ], capture_output=True)\n",
        "found_hindi_fonts = result.stdout.decode('utf-8').strip().split('\\n')\n",
        "\n",
        "matplotlib.rcParams['font.sans-serif'] = [\n",
        "    'Source Han Sans TW', 'sans-serif', 'Arial Unicode MS',\n",
        "    *found_hindi_fonts\n",
        "]"
      ]
    },
    {
      "cell_type": "code",
      "execution_count": 6,
      "metadata": {
        "id": "x2X96lFz7S0y"
      },
      "outputs": [],
      "source": [
        "# Please do not change anything in the following cell\n",
        "\n",
        "DIRECTORY_NAME = f\"{STUDENT_SAP_NAME.replace(' ', '_')}_{STUDENT_SR_NUMBER}\"\n",
        "\n",
        "os.makedirs(DIRECTORY_NAME, exist_ok=True)"
      ]
    },
    {
      "cell_type": "code",
      "execution_count": 7,
      "metadata": {
        "id": "bw94_afp7S0y"
      },
      "outputs": [],
      "source": [
        "def sync_vram():\n",
        "    \"\"\" Synchronizes the VRAM across the GPUs, reclaiming unused memory. \"\"\"\n",
        "    gc.collect()\n",
        "    torch.cuda.empty_cache()\n",
        "    torch.cuda.synchronize()"
      ]
    },
    {
      "cell_type": "markdown",
      "metadata": {
        "id": "CEg1ZOP17S0y"
      },
      "source": [
        "## Data Preparation"
      ]
    },
    {
      "cell_type": "markdown",
      "metadata": {
        "id": "m_lcFfUf7S0y"
      },
      "source": [
        "We'll load the data for the task, which comprises of a parallel corpus of Indian Names and their Hindi equivalents."
      ]
    },
    {
      "cell_type": "code",
      "execution_count": 8,
      "metadata": {
        "id": "gFbB8qWx7S0z"
      },
      "outputs": [
        {
          "name": "stdout",
          "output_type": "stream",
          "text": [
            "--2025-08-03 22:37:06--  https://docs.google.com/spreadsheets/d/e/2PACX-1vQOYe_Oy8eMzVFYq6hBSyPLslqA1PeMeK8S5nPs2-viuCNzx0i3Fl_ptFmD0YD3kTA_olYdOIx7iPOh/pub?gid=1482240395&single=true&output=csv\n",
            "Resolving docs.google.com (docs.google.com)... 142.251.220.110, 2404:6800:4003:c06::8b, 2404:6800:4003:c06::71, ...\n",
            "Connecting to docs.google.com (docs.google.com)|142.251.220.110|:443... connected.\n",
            "HTTP request sent, awaiting response... 307 Temporary Redirect\n",
            "Location: https://doc-08-6c-sheets.googleusercontent.com/pub/54bogvaave6cua4cdnls17ksc4/8d3n5ui789nmmtk5uiun7k1l8g/1754240825000/118252164104506406045/*/e@2PACX-1vQOYe_Oy8eMzVFYq6hBSyPLslqA1PeMeK8S5nPs2-viuCNzx0i3Fl_ptFmD0YD3kTA_olYdOIx7iPOh?gid=1482240395&single=true&output=csv [following]\n",
            "Warning: wildcards not supported in HTTP.\n",
            "--2025-08-03 22:37:07--  https://doc-08-6c-sheets.googleusercontent.com/pub/54bogvaave6cua4cdnls17ksc4/8d3n5ui789nmmtk5uiun7k1l8g/1754240825000/118252164104506406045/*/e@2PACX-1vQOYe_Oy8eMzVFYq6hBSyPLslqA1PeMeK8S5nPs2-viuCNzx0i3Fl_ptFmD0YD3kTA_olYdOIx7iPOh?gid=1482240395&single=true&output=csv\n",
            "Resolving doc-08-6c-sheets.googleusercontent.com (doc-08-6c-sheets.googleusercontent.com)... 142.250.192.129, 2404:6800:4007:808::2001\n",
            "Connecting to doc-08-6c-sheets.googleusercontent.com (doc-08-6c-sheets.googleusercontent.com)|142.250.192.129|:443... connected.\n",
            "HTTP request sent, awaiting response... 200 OK\n",
            "Length: unspecified [text/csv]\n",
            "Saving to: ‘data.train.csv’\n",
            "\n",
            "data.train.csv          [  <=>               ] 113.10K   343KB/s    in 0.3s    \n",
            "\n",
            "2025-08-03 22:37:09 (343 KB/s) - ‘data.train.csv’ saved [115815]\n",
            "\n",
            "--2025-08-03 22:37:09--  https://docs.google.com/spreadsheets/d/e/2PACX-1vTKa_jeysYhx869fmTb7VUchlSiChUq0vqotWRGMmnTXWZ8H2PkF8s6hRr2vdo6v54JJx8CEuVo8MZ3/pub?gid=1579594041&single=true&output=csv\n",
            "Resolving docs.google.com (docs.google.com)... 142.251.220.110, 2404:6800:4003:c06::8a, 2404:6800:4003:c06::64, ...\n",
            "Connecting to docs.google.com (docs.google.com)|142.251.220.110|:443... connected.\n",
            "HTTP request sent, awaiting response... 307 Temporary Redirect\n",
            "Location: https://doc-08-6c-sheets.googleusercontent.com/pub/54bogvaave6cua4cdnls17ksc4/p24c50onuqnh0mqqfk6t5b8keg/1754240830000/118252164104506406045/*/e@2PACX-1vTKa_jeysYhx869fmTb7VUchlSiChUq0vqotWRGMmnTXWZ8H2PkF8s6hRr2vdo6v54JJx8CEuVo8MZ3?gid=1579594041&single=true&output=csv [following]\n",
            "Warning: wildcards not supported in HTTP.\n",
            "--2025-08-03 22:37:10--  https://doc-08-6c-sheets.googleusercontent.com/pub/54bogvaave6cua4cdnls17ksc4/p24c50onuqnh0mqqfk6t5b8keg/1754240830000/118252164104506406045/*/e@2PACX-1vTKa_jeysYhx869fmTb7VUchlSiChUq0vqotWRGMmnTXWZ8H2PkF8s6hRr2vdo6v54JJx8CEuVo8MZ3?gid=1579594041&single=true&output=csv\n",
            "Resolving doc-08-6c-sheets.googleusercontent.com (doc-08-6c-sheets.googleusercontent.com)... 142.250.192.129, 2404:6800:4007:808::2001\n",
            "Connecting to doc-08-6c-sheets.googleusercontent.com (doc-08-6c-sheets.googleusercontent.com)|142.250.192.129|:443... connected.\n",
            "HTTP request sent, awaiting response... 200 OK\n",
            "Length: unspecified [text/csv]\n",
            "Saving to: ‘data.valid.csv’\n",
            "\n",
            "data.valid.csv          [ <=>                ]  10.10K  --.-KB/s    in 0.007s  \n",
            "\n",
            "2025-08-03 22:37:11 (1.38 MB/s) - ‘data.valid.csv’ saved [10342]\n",
            "\n"
          ]
        }
      ],
      "source": [
        "# Make sure your code is not dependent on any of the file names as below.\n",
        "\n",
        "# Download the training and validation datasets\n",
        "!wget -O data.train.csv \"https://docs.google.com/spreadsheets/d/e/2PACX-1vQOYe_Oy8eMzVFYq6hBSyPLslqA1PeMeK8S5nPs2-viuCNzx0i3Fl_ptFmD0YD3kTA_olYdOIx7iPOh/pub?gid=1482240395&single=true&output=csv\"\n",
        "!wget -O data.valid.csv \"https://docs.google.com/spreadsheets/d/e/2PACX-1vTKa_jeysYhx869fmTb7VUchlSiChUq0vqotWRGMmnTXWZ8H2PkF8s6hRr2vdo6v54JJx8CEuVo8MZ3/pub?gid=1579594041&single=true&output=csv\""
      ]
    },
    {
      "cell_type": "code",
      "execution_count": 9,
      "metadata": {
        "id": "1L8ZDlFm7S0z"
      },
      "outputs": [
        {
          "name": "stdout",
          "output_type": "stream",
          "text": [
            "Length of training data: 4484\n",
            "Length of validation data: 400\n"
          ]
        }
      ],
      "source": [
        "# Please do not change anything in the following cell\n",
        "\n",
        "def read_dataframe(ds_type):\n",
        "    \"\"\" Loads a dataframe based on the given partition type.\n",
        "\n",
        "    Args:\n",
        "        ds_type (str): Dataset type: train (train) or validation (valid)\n",
        "\n",
        "    Returns:\n",
        "        pd.DataFrame: Pandas Dataframe for the specified partition.\n",
        "    \"\"\"\n",
        "\n",
        "    df = pd.read_csv(f\"data.{ds_type}.csv\", header=0)\n",
        "    df = df[~df.isna()]\n",
        "    df['Name'] = df['Name'].astype(str)\n",
        "    df['Translation'] = df['Translation'].astype(str)\n",
        "    return df\n",
        "\n",
        "# Load the training and validation datasets\n",
        "train_data      = read_dataframe(\"train\")\n",
        "validation_data = read_dataframe(\"valid\")\n",
        "\n",
        "print(f\"Length of training data: {len(train_data)}\\nLength of validation data: {len(validation_data)}\")"
      ]
    },
    {
      "cell_type": "markdown",
      "metadata": {
        "id": "LE8sRvHo7S00"
      },
      "source": [
        "Here are some examples from the training dataset. Note that the dataset may be noisy so some examples may not be perfect:"
      ]
    },
    {
      "cell_type": "code",
      "execution_count": 10,
      "metadata": {
        "id": "kZH2EVyE7S00"
      },
      "outputs": [
        {
          "data": {
            "text/html": [
              "<div>\n",
              "<style scoped>\n",
              "    .dataframe tbody tr th:only-of-type {\n",
              "        vertical-align: middle;\n",
              "    }\n",
              "\n",
              "    .dataframe tbody tr th {\n",
              "        vertical-align: top;\n",
              "    }\n",
              "\n",
              "    .dataframe thead th {\n",
              "        text-align: right;\n",
              "    }\n",
              "</style>\n",
              "<table border=\"1\" class=\"dataframe\">\n",
              "  <thead>\n",
              "    <tr style=\"text-align: right;\">\n",
              "      <th></th>\n",
              "      <th>Name</th>\n",
              "      <th>Translation</th>\n",
              "    </tr>\n",
              "  </thead>\n",
              "  <tbody>\n",
              "    <tr>\n",
              "      <th>300</th>\n",
              "      <td>येसपाल</td>\n",
              "      <td>yespal</td>\n",
              "    </tr>\n",
              "    <tr>\n",
              "      <th>1010</th>\n",
              "      <td>इंदा</td>\n",
              "      <td>inda</td>\n",
              "    </tr>\n",
              "    <tr>\n",
              "      <th>1609</th>\n",
              "      <td>अभिशक</td>\n",
              "      <td>abhishak</td>\n",
              "    </tr>\n",
              "    <tr>\n",
              "      <th>2409</th>\n",
              "      <td>बोध</td>\n",
              "      <td>bodh</td>\n",
              "    </tr>\n",
              "    <tr>\n",
              "      <th>2544</th>\n",
              "      <td>बबूल</td>\n",
              "      <td>babul</td>\n",
              "    </tr>\n",
              "  </tbody>\n",
              "</table>\n",
              "</div>"
            ],
            "text/plain": [
              "        Name Translation\n",
              "300   येसपाल      yespal\n",
              "1010    इंदा        inda\n",
              "1609   अभिशक    abhishak\n",
              "2409     बोध        bodh\n",
              "2544    बबूल       babul"
            ]
          },
          "execution_count": 10,
          "metadata": {},
          "output_type": "execute_result"
        }
      ],
      "source": [
        "train_data.sample(n=5)"
      ]
    },
    {
      "cell_type": "markdown",
      "metadata": {
        "id": "D0B5XhUx7S01"
      },
      "source": [
        "## Tokenization"
      ]
    },
    {
      "cell_type": "markdown",
      "metadata": {
        "id": "wizKxo-j7S01"
      },
      "source": [
        "An implementation of tokenization is already in place. Do not modify it, as it can affect your evaluation."
      ]
    },
    {
      "cell_type": "code",
      "execution_count": 11,
      "metadata": {
        "id": "8Y3ri4PD7S02"
      },
      "outputs": [],
      "source": [
        "# Please do not change anything in the following cell\n",
        "\n",
        "class Tokenizer:\n",
        "    \"\"\" Represents the tokenizer for text data.\n",
        "        Provides methods to encode and decode strings (as instance or as a batch). \"\"\"\n",
        "\n",
        "    def __init__(self):\n",
        "        \"\"\" Initializes a new tokenizer.\n",
        "\n",
        "            Any variables required in intermediate operations are declared here.\n",
        "            You will also need to define things like special tokens and other things here.\n",
        "\n",
        "            All variables declared in this function will be serialized\n",
        "                and deserialized when loading and saving the Tokenizer.\n",
        "            \"\"\"\n",
        "\n",
        "        self.special_tokens = { '[BOS]': 1, '[EOS]': 2, '[PAD]': 0 }\n",
        "        self.vocab = { bytes([ i ]): i+len(self.special_tokens) for i in range(256)  }\n",
        "        self.merge_rules = {  }\n",
        "        self.inv_vocab = { _id: token for token, _id in self.vocab.items() }\n",
        "        self.inv_vocab.update({ _id: token.encode() for token, _id in self.special_tokens.items() })\n",
        "\n",
        "    @classmethod\n",
        "    def load(cls, path):\n",
        "        \"\"\" Loads a pre-trained tokenizer from the given directory.\n",
        "           This directory will have a tokenizer.pkl file that contains all the tokenizer variables.\n",
        "\n",
        "        Args:\n",
        "            path (str): Path to load the tokenizer from.\n",
        "        \"\"\"\n",
        "        tokenizer_file = os.path.join(path, \"tokenizer.pkl\")\n",
        "\n",
        "        if not os.path.exists(path) or not os.path.exists(os.path.join(path, \"tokenizer.pkl\")):\n",
        "            raise ValueError(cls.load.__name__ + \": No tokenizer found at the specified directory\")\n",
        "\n",
        "        with open(tokenizer_file, \"rb\") as ifile:\n",
        "            return pickle.load(ifile)\n",
        "\n",
        "    def save(self, path):\n",
        "        \"\"\" Saves a trained tokenizer to a given directory, inside a tokenizer.pkl file.\n",
        "\n",
        "        Args:\n",
        "            path (str): Directory to save the tokenizer in.\n",
        "        \"\"\"\n",
        "\n",
        "        os.makedirs(path, exist_ok=True)\n",
        "        with open(os.path.join(path, \"tokenizer.pkl\"), 'wb') as ofile:\n",
        "            pickle.dump(self, ofile)\n",
        "\n",
        "    def train(self, data, vocab_size):\n",
        "        \"\"\" Trains a tokenizer to learn meaningful representations from input data.\n",
        "            In the end, learns a vocabulary of a fixed size over the given data.\n",
        "            Special tokens, if any, must not be counted towards this vocabulary.\n",
        "\n",
        "        Args:\n",
        "            data (list[str]): List of input strings from a text corpus.\n",
        "            vocab_size (int): Final desired size of the vocab to be learnt.\n",
        "        \"\"\"\n",
        "\n",
        "        self.vocab = { bytes([ i ]): i+len(self.special_tokens) for i in range(256)  }\n",
        "        self.vocab.update({ token.encode('utf-8'): _id for token, _id in self.special_tokens.items() })\n",
        "\n",
        "        self.merge_rules = {  }\n",
        "        self.inv_vocab   = { _id: token for token, _id in self.vocab.items() }\n",
        "\n",
        "        data = [ [ i+len(self.special_tokens) for i in instance.encode('utf-8') ] for instance in data ]\n",
        "\n",
        "        while len(self.vocab) < len(self.special_tokens) + vocab_size:\n",
        "            # Compute stats\n",
        "            counts = collections.defaultdict(int)\n",
        "            for tok_str in data:\n",
        "                for tok, next_tok in zip(tok_str, tok_str[1:]):\n",
        "                    counts[(tok, next_tok)] += 1\n",
        "\n",
        "            # Learn a new merge rule\n",
        "            best_pair = max(counts, key=counts.get)\n",
        "            new_token, new_id = self.inv_vocab[best_pair[0]] + self.inv_vocab[best_pair[1]], len(self.vocab)\n",
        "            self.merge_rules[best_pair] = new_id\n",
        "            self.inv_vocab[new_id] = new_token\n",
        "            self.vocab[new_token]  = new_id\n",
        "\n",
        "            # Update tokens\n",
        "            new_data = []\n",
        "            for tok_str in data:\n",
        "                i, new_tok_str = 0, []\n",
        "                while i < len(tok_str):\n",
        "                    if i < len(tok_str) - 1 and (tok_str[i], tok_str[i+1]) == best_pair:\n",
        "                        new_tok_str.append(new_id)\n",
        "                        i += 2\n",
        "                    else:\n",
        "                        new_tok_str.append(tok_str[i])\n",
        "                        i += 1\n",
        "                new_data.append(new_tok_str)\n",
        "            data = new_data\n",
        "\n",
        "    def pad(self, tokens, length):\n",
        "        \"\"\" Pads a tokenized string to a specified length, for batch processing.\n",
        "\n",
        "        Args:\n",
        "            tokens (list[int]): Encoded token string to be padded.\n",
        "            length (int): Length of tokens to pad to.\n",
        "\n",
        "        Returns:\n",
        "            list[int]: Token string padded to desired length.\n",
        "        \"\"\"\n",
        "\n",
        "\n",
        "        if len(tokens) < length:\n",
        "            tokens = [ *tokens ]\n",
        "            tokens += ([ self.special_tokens['[PAD]'] ] * (length - len(tokens)))\n",
        "\n",
        "        return tokens\n",
        "\n",
        "\n",
        "    def unpad(self, tokens):\n",
        "        \"\"\" Removes padding from a token string.\n",
        "\n",
        "        Args:\n",
        "            tokens (list[int]): Encoded token string with padding.\n",
        "\n",
        "        Returns:\n",
        "            list[int]: Token string with padding removed.\n",
        "        \"\"\"\n",
        "\n",
        "        no_pad_len = len(tokens)\n",
        "        while tokens[no_pad_len-1] == self.special_tokens['[PAD]']: no_pad_len -= 1\n",
        "\n",
        "        return tokens[:no_pad_len]\n",
        "\n",
        "    def get_special_tokens(self):\n",
        "        \"\"\" Returns the associated special tokens.\n",
        "\n",
        "            Returns:\n",
        "                dict[str, int]: Mapping describing the special tokens, if any.\n",
        "                    This is a mapping between a string segment (token) and its associated id (token_id).\n",
        "        \"\"\"\n",
        "\n",
        "        return self.special_tokens\n",
        "\n",
        "    def get_vocabulary(self):\n",
        "        \"\"\" Returns the learnt vocabulary post the training process.\n",
        "\n",
        "            Returns:\n",
        "                dict[str, int]: Mapping describing the vocabulary and special tokens, if any.\n",
        "                    This is a mapping between a string segment (token) and its associated id (token_id).\n",
        "        \"\"\"\n",
        "\n",
        "        return self.vocab\n",
        "\n",
        "    def encode(self, string, add_start=True, add_end=True):\n",
        "        \"\"\" Encodes a string into a list of tokens.\n",
        "\n",
        "        Args:\n",
        "            string (str): Input string to be tokenized.\n",
        "            add_start (bool): If true, adds the start of sequence token.\n",
        "            add_end (bool): If true, adds the end of sequence token.\n",
        "        Returns:\n",
        "            list[int]: List of tokens (unpadded).\n",
        "        \"\"\"\n",
        "\n",
        "        string = unicodedata.normalize('NFKC', string)\n",
        "\n",
        "        tokens = [ i+len(self.special_tokens) for i in string.encode('utf-8') ]\n",
        "\n",
        "        while len(tokens) > 1:\n",
        "            pairs = set()\n",
        "            for tok, next_tok in zip(tokens, tokens[1:]):\n",
        "                pairs.add((tok, next_tok))\n",
        "\n",
        "            merge_pair = min(pairs, key=lambda x: self.merge_rules.get(x, float(\"inf\")))\n",
        "            if merge_pair not in self.merge_rules: break\n",
        "\n",
        "            i, new_tokens = 0, []\n",
        "            while i < len(tokens):\n",
        "                if i < len(tokens) - 1 and (tokens[i], tokens[i+1]) == merge_pair:\n",
        "                    new_tokens.append(self.merge_rules[merge_pair])\n",
        "                    i += 2\n",
        "                else:\n",
        "                    new_tokens.append(tokens[i])\n",
        "                    i += 1\n",
        "            tokens = new_tokens\n",
        "\n",
        "        if add_start: tokens = [ self.special_tokens['[BOS]'] ] + tokens\n",
        "        if add_end  : tokens = tokens + [ self.special_tokens['[EOS]'] ]\n",
        "\n",
        "        return tokens\n",
        "\n",
        "\n",
        "    def decode(self, tokens, strip_special=True):\n",
        "        \"\"\" Decodes a string from a list of tokens.\n",
        "            Undoes the tokenization, returning back the input string.\n",
        "\n",
        "        Args:\n",
        "            tokens (list[int]): List of encoded tokens to be decoded. No padding is assumed.\n",
        "            strip_special (bool): Whether to remove special tokens or not.\n",
        "\n",
        "        Returns:\n",
        "            str: Decoded string.\n",
        "        \"\"\"\n",
        "\n",
        "        if strip_special:\n",
        "            special_tokens = set(self.special_tokens.values())\n",
        "            tokens = [ token for token in tokens if token not in special_tokens ]\n",
        "\n",
        "        return (b''.join(self.inv_vocab[tok_id] for tok_id in tokens)).decode('utf-8', errors='replace')\n",
        "\n",
        "    def batch_encode(self, batch, padding=None, add_start=True, add_end=True):\n",
        "        \"\"\"Encodes multiple strings in a batch to list of tokens padded to a given size.\n",
        "\n",
        "        Args:\n",
        "            batch (list[str]): List of strings to be tokenized.\n",
        "            padding (int, optional): Optional, desired tokenized length. Outputs will be padded to fit this length.\n",
        "            add_start (bool): If true, adds the start of sequence token.\n",
        "            add_end (bool): If true, adds the end of sequence token.\n",
        "\n",
        "        Returns:\n",
        "            list[list[int]]: List of tokenized outputs, padded to the same length.\n",
        "        \"\"\"\n",
        "\n",
        "        batch_output = [ self.encode(string, add_start, add_end) for string in batch ]\n",
        "        if padding:\n",
        "            for i, tokens in enumerate(batch_output):\n",
        "                if len(tokens) < padding:\n",
        "                    batch_output[i] = self.pad(tokens, padding)\n",
        "        return batch_output\n",
        "\n",
        "    def batch_decode(self, batch, strip_special=True):\n",
        "        \"\"\" Decodes a batch of encoded tokens to normal strings.\n",
        "\n",
        "        Args:\n",
        "            batch (list[list[int]]): List of encoded token strings, optionally padded.\n",
        "            strip_special (bool): Whether to remove special tokens or not.\n",
        "\n",
        "        Returns:\n",
        "            list[str]: Decoded strings after padding is removed.\n",
        "        \"\"\"\n",
        "        return [ self.decode(self.unpad(tokens), strip_special=strip_special) for tokens in batch ]"
      ]
    },
    {
      "cell_type": "markdown",
      "metadata": {
        "id": "2__Tts8p7S04"
      },
      "source": [
        "Now with the tokenizer class, initialize and train the tokenizers for processing the parallel corpus:"
      ]
    },
    {
      "cell_type": "code",
      "execution_count": 12,
      "metadata": {
        "id": "4A_U8cl_7S04"
      },
      "outputs": [],
      "source": [
        "# Please do not change anything in the following cell\n",
        "\n",
        "# Initialize the tokenizers as per the desired strategy.\n",
        "src_tokenizer = Tokenizer()\n",
        "tgt_tokenizer = Tokenizer()\n"
      ]
    },
    {
      "cell_type": "code",
      "execution_count": 13,
      "metadata": {
        "id": "OBYyr0Es7S04"
      },
      "outputs": [],
      "source": [
        "# Please do not change anything in the following cell\n",
        "\n",
        "# Edit the hyperparameters below as desired.\n",
        "SRC_VOCAB_SIZE = 300\n",
        "TGT_VOCAB_SIZE = 400\n",
        "\n",
        "\n",
        "# Train your tokenizer(s)\n",
        "src_tokenizer.train(train_data['Name']       , vocab_size=SRC_VOCAB_SIZE)\n",
        "tgt_tokenizer.train(train_data['Translation'], vocab_size=TGT_VOCAB_SIZE)"
      ]
    },
    {
      "cell_type": "code",
      "execution_count": 14,
      "metadata": {
        "id": "a2vmqRKH7S05"
      },
      "outputs": [],
      "source": [
        "# Please do not change anything in the following cell\n",
        "\n",
        "# Save the trained tokenizers\n",
        "src_tokenizer.save(os.path.join(DIRECTORY_NAME, \"src-tokenizer\"))\n",
        "tgt_tokenizer.save(os.path.join(DIRECTORY_NAME, \"tgt-tokenizer\"))"
      ]
    },
    {
      "cell_type": "code",
      "execution_count": 15,
      "metadata": {
        "id": "s1O2qJYg7S06"
      },
      "outputs": [],
      "source": [
        "# Please do not change anything in the following cell\n",
        "\n",
        "def render_glyph(token):\n",
        "    \"\"\" Renders a token, handling invalid bytes in a safe, error-proof manner. \"\"\"\n",
        "\n",
        "    token = token.decode('utf-8', errors='replace') if isinstance(token, bytes) else token\n",
        "    return \"\".join([ c if unicodedata.category(c)[0] != \"C\" else f\"\\\\u{ord(c):04x}\" for c in token ])\n",
        "\n",
        "def inverse_vocabulary(tokenizer):\n",
        "    \"\"\" Generates an inverse vocabulary with rendered tokens.\n",
        "\n",
        "    Args:\n",
        "        tokenizer (Tokenizer): Tokenizer whose vocabulary must be used.\n",
        "    \"\"\"\n",
        "\n",
        "    return { id: render_glyph(token) for token, id in tokenizer.get_vocabulary().items() }\n",
        "\n",
        "def apply_inverse_vocab(tokens, inv_vocab):\n",
        "    \"\"\" Decodes using the given inverse vocabulary.\n",
        "\n",
        "    Args:\n",
        "        tokens (list[int]): Tokens to process.\n",
        "        inv_vocab (dict[int, str]): Inverse vocabulary for mapping ids to tokens.\n",
        "\n",
        "    Returns:\n",
        "        list[str]: Mapped token glyphs.\n",
        "    \"\"\"\n",
        "\n",
        "    return [ inv_vocab[id] for id in tokens ]"
      ]
    },
    {
      "cell_type": "markdown",
      "metadata": {
        "id": "q3VKC9YY7S06"
      },
      "source": [
        "We visualize a few outputs of the learnt tokenizers to assess their working:"
      ]
    },
    {
      "cell_type": "code",
      "execution_count": 16,
      "metadata": {
        "id": "75gjtCVW7S07"
      },
      "outputs": [
        {
          "name": "stdout",
          "output_type": "stream",
          "text": [
            "Name           : दीपक\n",
            "Tokens         : [1, 274, 265, 278, 273, 2]\n",
            "Tokens (glyphs): ['[BOS]', 'द', 'ी', 'प', 'क', '[EOS]']\n",
            "Decoded        : दीपक\n",
            "\n",
            "Name           : दामोदर\n",
            "Tokens         : [1, 274, 261, 264, 282, 274, 262, 2]\n",
            "Tokens (glyphs): ['[BOS]', 'द', 'ा', 'म', 'ो', 'द', 'र', '[EOS]']\n",
            "Decoded        : दामोदर\n",
            "\n",
            "Name           : आमरिन\n",
            "Tokens         : [1, 300, 264, 262, 267, 263, 2]\n",
            "Tokens (glyphs): ['[BOS]', 'आ', 'म', 'र', 'ि', 'न', '[EOS]']\n",
            "Decoded        : आमरिन\n",
            "\n",
            "Name           : बनिता\n",
            "Tokens         : [1, 279, 263, 267, 297, 2]\n",
            "Tokens (glyphs): ['[BOS]', 'ब', 'न', 'ि', 'ता', '[EOS]']\n",
            "Decoded        : बनिता\n",
            "\n",
            "Name           : घन्स्याम\n",
            "Tokens         : [1, 259, 155, 263, 266, 268, 266, 291, 264, 2]\n",
            "Tokens (glyphs): ['[BOS]', '�', '�', 'न', '्', 'स', '्', 'या', 'म', '[EOS]']\n",
            "Decoded        : घन्स्याम\n",
            "\n"
          ]
        }
      ],
      "source": [
        "# Please do not change anything in the following cell\n",
        "\n",
        "src_id_to_token = inverse_vocabulary(src_tokenizer)\n",
        "\n",
        "for example in train_data['Name'].sample(n=5, random_state=20240227):\n",
        "    print(\"Name           :\", example)\n",
        "    tokens = src_tokenizer.encode(example)\n",
        "    print(\"Tokens         :\", tokens)\n",
        "    print(\"Tokens (glyphs):\", apply_inverse_vocab(tokens, src_id_to_token))\n",
        "    print(\"Decoded        :\", src_tokenizer.decode(tokens), end='\\n\\n')"
      ]
    },
    {
      "cell_type": "code",
      "execution_count": 17,
      "metadata": {
        "id": "MJT2frJu7S08"
      },
      "outputs": [
        {
          "name": "stdout",
          "output_type": "stream",
          "text": [
            "Name           : deepak\n",
            "Tokens         : [1, 332, 318, 110, 2]\n",
            "Tokens (glyphs): ['[BOS]', 'dee', 'pa', 'k', '[EOS]']\n",
            "Decoded        : deepak\n",
            "\n",
            "Name           : damodar\n",
            "Tokens         : [1, 103, 264, 114, 103, 261, 2]\n",
            "Tokens (glyphs): ['[BOS]', 'd', 'am', 'o', 'd', 'ar', '[EOS]']\n",
            "Decoded        : damodar\n",
            "\n",
            "Name           : aamrin\n",
            "Tokens         : [1, 100, 264, 117, 265, 2]\n",
            "Tokens (glyphs): ['[BOS]', 'a', 'am', 'r', 'in', '[EOS]']\n",
            "Decoded        : aamrin\n",
            "\n",
            "Name           : banita\n",
            "Tokens         : [1, 101, 259, 327, 2]\n",
            "Tokens (glyphs): ['[BOS]', 'b', 'an', 'ita', '[EOS]']\n",
            "Decoded        : banita\n",
            "\n",
            "Name           : ghansyam\n",
            "Tokens         : [1, 106, 345, 118, 375, 2]\n",
            "Tokens (glyphs): ['[BOS]', 'g', 'han', 's', 'yam', '[EOS]']\n",
            "Decoded        : ghansyam\n",
            "\n"
          ]
        }
      ],
      "source": [
        "# Please do not change anything in the following cell\n",
        "\n",
        "tgt_id_to_token = inverse_vocabulary(tgt_tokenizer)\n",
        "\n",
        "for example in train_data['Translation'].sample(n=5, random_state=20240227):\n",
        "    print(\"Name           :\", example)\n",
        "    tokens = tgt_tokenizer.encode(example)\n",
        "    print(\"Tokens         :\", tokens)\n",
        "    print(\"Tokens (glyphs):\", apply_inverse_vocab(tokens, tgt_id_to_token))\n",
        "    print(\"Decoded        :\", tgt_tokenizer.decode(tokens), end='\\n\\n')"
      ]
    },
    {
      "cell_type": "markdown",
      "metadata": {
        "id": "dUOLUDqy7S09"
      },
      "source": [
        "We now abstract away the tokenizer into a pytorch compatible TokenizedDataset that will handle the tokenization internally:"
      ]
    },
    {
      "cell_type": "code",
      "execution_count": 18,
      "metadata": {
        "id": "0BFaB2Nr7S09"
      },
      "outputs": [],
      "source": [
        "# Please do not change anything in the following cell\n",
        "\n",
        "class TokenizerDataset(TensorDataset):\n",
        "    \"\"\" Abstraction of the tokenizer functions as a pytorch dataset. \"\"\"\n",
        "\n",
        "    def __init__(self, data, src_tokenizer, tgt_tokenizer, src_padding=None, tgt_padding=None):\n",
        "        \"\"\" Initializes the dataset.\n",
        "\n",
        "        Args:\n",
        "            data: DataFrame of input and output strings.\n",
        "            src_tokenizer (Tokenizer): Tokenizer for the source language.\n",
        "            tgt_tokenizer (Tokenizer): Tokenizer for the target language.\n",
        "            src_padding (int, optional): Padding length for the source text. Defaults to None.\n",
        "            tgt_padding (int, optional): Padding length for the target text. Defaults to None.\n",
        "        \"\"\"\n",
        "\n",
        "        self.data = data\n",
        "        self.src_tokenizer = src_tokenizer\n",
        "        self.tgt_tokenizer = tgt_tokenizer\n",
        "        self.src_padding = src_padding\n",
        "        self.tgt_padding = tgt_padding\n",
        "\n",
        "    def collate(self, batch):\n",
        "        \"\"\" Collates data instances into a batch of tokenized tensors.\n",
        "\n",
        "        Args:\n",
        "            batch (list[tuple]): List of x, y pairs.\n",
        "\n",
        "        Returns:\n",
        "            tuple[torch.Tensor|PackedSequence, torch.Tensor|PackedSequence]: pair of tokenized tensors.\n",
        "        \"\"\"\n",
        "\n",
        "        x_batch = [ data[0] for data in batch ]\n",
        "        y_batch = [ data[1] for data in batch ]\n",
        "\n",
        "        x_batch = self.src_tokenizer.batch_encode(x_batch, self.src_padding)\n",
        "        y_batch = self.tgt_tokenizer.batch_encode(y_batch, self.tgt_padding)\n",
        "\n",
        "        if self.src_padding is None:\n",
        "            x_batch = torch.nn.utils.rnn.pack_sequence([ torch.tensor(tokens) for tokens in x_batch ], False)\n",
        "        else:\n",
        "            x_batch = torch.tensor(x_batch)\n",
        "\n",
        "        if self.tgt_padding is None:\n",
        "            y_batch = torch.nn.utils.rnn.pack_sequence([ torch.tensor(tokens) for tokens in y_batch ], False)\n",
        "        else:\n",
        "            y_batch = torch.tensor(y_batch)\n",
        "\n",
        "        return x_batch, y_batch\n",
        "\n",
        "    def __getitem__(self, index):\n",
        "        \"\"\" Returns the nth instance from the dataset.\n",
        "\n",
        "        Args:\n",
        "            index (int): Index of the instance to retrieve.\n",
        "\n",
        "        Returns:\n",
        "            tuple[str, str]: Untokenized instance pair.\n",
        "        \"\"\"\n",
        "\n",
        "        return (\n",
        "            self.data['Name'][index],\n",
        "            self.data['Translation'][index]\n",
        "        )\n",
        "\n",
        "    def __len__(self):\n",
        "        \"\"\" Returns the length of the dataset.\n",
        "\n",
        "        Returns:\n",
        "            int: Length of the dataset.\n",
        "        \"\"\"\n",
        "        return len(self.data)"
      ]
    },
    {
      "cell_type": "markdown",
      "metadata": {
        "id": "rBnISg0K7S1G"
      },
      "source": [
        "## Model-Agnostic Training"
      ]
    },
    {
      "cell_type": "markdown",
      "metadata": {
        "id": "JUF3_vkA7S1G"
      },
      "source": [
        "Next, you'll implement a Trainer to train different models, since the data and tokenizer remains the same for all models.\n",
        "\n",
        "This trainer will receive the model, a loss function, an optimizer, a training and (optionally) a validation dataset and use these to train (and validate) the model.\n",
        "\n",
        "The trainer will also take care of handling checkpoints for training, which can be used to resume training across sessions.\n",
        "\n",
        "Derived classes can also be defined to handle different architectures, as to be done in the model-specific classes below."
      ]
    },
    {
      "cell_type": "code",
      "execution_count": 19,
      "metadata": {
        "id": "Kcq8zymS7S1H"
      },
      "outputs": [],
      "source": [
        "## ==== BEGIN EVALUATION PORTION\n",
        "\n",
        "class Trainer:\n",
        "    \"\"\" Performs model training in a model-agnostic manner.\n",
        "        Requires specifying the model instance, the loss criterion to optimize,\n",
        "          the optimizer to use and the directory to save data to.\n",
        "    \"\"\"\n",
        "\n",
        "    def __init__(self, directory, model, criterion, optimizer):\n",
        "        \"\"\" Initializes the trainer.\n",
        "\n",
        "        Args:\n",
        "            directory (str): Directory to save checkpoints and the model data in.\n",
        "            model (torch.nn.Module): Torch model (must inherit `torch.nn.Module`) to train.\n",
        "            criterion (torch.nn.Function): Loss criterion, i.e., the loss function to optimize for training.\n",
        "            optimizer (torch.optim.Optimizer): Optimizer to use for training.\n",
        "        \"\"\"\n",
        "\n",
        "        self.model            = model\n",
        "        self.optimizer        = optimizer\n",
        "        self.criterion        = criterion\n",
        "        self.directory        = directory\n",
        "        self.last_checkpoint  = 0\n",
        "        self.loss_history     = { 'train': [], 'valid': [] }\n",
        "\n",
        "        os.makedirs(self.directory, exist_ok=True)\n",
        "        self.device = 'cuda' if torch.cuda.is_available() else 'cpu'\n",
        "\n",
        "    @staticmethod\n",
        "    def make_dataloader(dataset, shuffle_data=True, batch_size=8, collate_fn=None):\n",
        "        \"\"\" Create a dataloader for a torch Dataset.\n",
        "\n",
        "        Args:\n",
        "            dataset (torch.utils.data.Dataset): Dataset to process.\n",
        "            shuffle_data (bool, optional): If true, shuffles the data. Defaults to True.\n",
        "            batch_size (int, optional): Number of items per batch. Defaults to 8.\n",
        "            collate_fn (function, optional): Function to use for collating instances to a batch.\n",
        "\n",
        "        Returns:\n",
        "            torch.utils.data.DataLoader: Dataloader over the given data, post processing.\n",
        "        \"\"\"\n",
        "\n",
        "        # BEGIN CODE : trainer.make_dataloader\n",
        "\n",
        "        # ADD YOUR CODE HERE\n",
        "        return DataLoader(dataset, shuffle = shuffle_data, batch_size = batch_size, collate_fn = collate_fn)\n",
        "        # END CODE\n",
        "\n",
        "    def train_step(self, x_batch, y_batch):\n",
        "        \"\"\" Performs a step of training, on the training batch.\n",
        "\n",
        "        Args:\n",
        "            x_batch (torch.Tensor): Input batch.\n",
        "            y_batch (torch.Tensor): Output batch.\n",
        "\n",
        "        Returns:\n",
        "            float: Training loss with the current model, on this batch.\n",
        "        \"\"\"\n",
        "\n",
        "        # BEGIN CODE : trainer.train_step\n",
        "\n",
        "        # ADD YOUR CODE HERE\n",
        "        x_batch = x_batch.to(self.device)\n",
        "        y_batch = y_batch.to(self.device)\n",
        "\n",
        "        output = self.model(x_batch)\n",
        "        total_batch_loss = self.criterion(output, y_batch)\n",
        "        total_batch_loss.backward()\n",
        "        self.optimizer.step()\n",
        "        self.optimizer.zero_grad()\n",
        "\n",
        "        return total_batch_loss.data.item()\n",
        "        # END CODE\n",
        "\n",
        "    def eval_step(self, validation_dataloader):\n",
        "        \"\"\" Perfoms an evaluation step, on the validation dataloader.\n",
        "\n",
        "        Args:\n",
        "            validation_dataloader (torch.utils.data.DataLoader): Dataloader for the validation dataset.\n",
        "\n",
        "        Returns:\n",
        "            float: Validation loss with the current model checkpoint.\n",
        "        \"\"\"\n",
        "\n",
        "        # BEGIN CODE : trainer.eval_step\n",
        "\n",
        "        # ADD YOUR CODE HERE\n",
        "        self.model.eval()\n",
        "\n",
        "        loss_sum = 0.0\n",
        "        batch_count = len([x for x,y in validation_dataloader])\n",
        "\n",
        "        with torch.no_grad():\n",
        "          for a, b in validation_dataloader:\n",
        "            a = a.to(self.device)\n",
        "            b = b.to(self.device)\n",
        "\n",
        "            batch_output = self.model(a)\n",
        "            batch_loss = self.criterion(batch_output, b)\n",
        "\n",
        "            self.optimizer.step()\n",
        "\n",
        "            loss_sum += batch_loss.data.item()\n",
        "\n",
        "        average_loss = loss_sum / batch_count\n",
        "\n",
        "        return average_loss\n",
        "        # END CODE\n",
        "\n",
        "    def train(self, train_dataset, validation_dataset=None,\n",
        "              num_epochs=10, batch_size=8, shuffle=True,\n",
        "              save_steps=100, eval_steps=100, collate_fn=None):\n",
        "        \"\"\" Handles the training loop for the model.\n",
        "\n",
        "        Args:\n",
        "            train_dataset (torch.utils.data.Dataset): Dataset to train on.\n",
        "            validation_dataset (torch.utils.data.Dataset, optional): Data to validate on. Defaults to None.\n",
        "            num_epochs (int, optional): Number of epochs to train for. Defaults to 10.\n",
        "            batch_size (int, optional): Number of items to process per batch. Defaults to 8.\n",
        "            shuffle (bool, optional): Whether to shuffle the data or not. Defaults to True.\n",
        "            save_steps (int, optional): Number of steps post which a checkpoint should be saved. Defaults to 100.\n",
        "            eval_steps (int, optional): Number of steps post which the model should be evaluated. Defaults to 100.\n",
        "            collate_fn (function, optional): Function to use for collating instances to a batch.\n",
        "        \"\"\"\n",
        "\n",
        "        current_checkpoint = 0\n",
        "        self.model.to(self.device)\n",
        "        self.model.train()\n",
        "\n",
        "        with tqdm.tqdm(total = math.ceil(len(train_dataset) / batch_size) * num_epochs) as pbar:\n",
        "            for epoch in range(num_epochs):\n",
        "                train_dataloader      = self.make_dataloader(train_dataset, shuffle, batch_size, collate_fn)\n",
        "                if validation_dataset is not None:\n",
        "                    validation_dataloader = self.make_dataloader(validation_dataset, shuffle, batch_size, collate_fn)\n",
        "\n",
        "                for batch, (x_batch, y_batch) in enumerate(train_dataloader):\n",
        "                    pbar.set_description(f\"Epoch {epoch+1} / {num_epochs}\")\n",
        "\n",
        "                    # If we are resuming training, skip this iteration\n",
        "                    if current_checkpoint < self.last_checkpoint:\n",
        "                        current_checkpoint += 1\n",
        "                        pbar.update()\n",
        "                        continue\n",
        "\n",
        "                    # Do a step of training\n",
        "                    loss = self.train_step(x_batch, y_batch)\n",
        "                    self.loss_history['train'].append(loss)\n",
        "                    pbar.set_postfix({ 'batch': batch+1, 'loss': loss })\n",
        "\n",
        "                    current_checkpoint += 1\n",
        "                    pbar.update()\n",
        "\n",
        "                    # Evaluate after every eval_steps\n",
        "                    if (current_checkpoint) % eval_steps == 0:\n",
        "                        if validation_dataset is not None:\n",
        "                            val_loss = self.eval_step(validation_dataloader)\n",
        "                            self.loss_history['valid'].append(val_loss)\n",
        "                        else:\n",
        "                            val_loss = None\n",
        "\n",
        "                        print('[>]', f\"epoch #{epoch+1:{len(str(num_epochs))}},\",\n",
        "                              f\"batch #{batch+1:{len(str(len(train_dataloader)))}}:\",\n",
        "                              \"loss:\", f\"{loss:.8f}\", '|', \"val_loss:\", f\"{val_loss:.8f}\")\n",
        "\n",
        "                    # Save after every save_steps\n",
        "                    if (current_checkpoint) % save_steps == 0:\n",
        "                        self.save(current_checkpoint, { 'loss': loss, 'checkpoint': current_checkpoint })\n",
        "\n",
        "                    # free unused resources\n",
        "                    sync_vram()\n",
        "\n",
        "            self.save(current_checkpoint)\n",
        "\n",
        "    def resume(self):\n",
        "        \"\"\" Resumes training session from the most recent checkpoint. \"\"\"\n",
        "\n",
        "        if checkpoints := os.listdir(self.directory):\n",
        "            self.last_checkpoint = max(map(lambda x: int(x[11:]), filter(lambda x: 'checkpoint-' in x, checkpoints)))\n",
        "            checkpoint_dir = os.path.join(self.directory, f\"checkpoint-{self.last_checkpoint}\")\n",
        "            self.model.load_state_dict(torch.load(\n",
        "                os.path.join(checkpoint_dir, \"model.pt\"),\n",
        "                map_location=self.device\n",
        "            ))\n",
        "            self.model.to(self.device)\n",
        "            self.optimizer.load_state_dict(torch.load(\n",
        "                os.path.join(checkpoint_dir, \"optimizer.pt\"),\n",
        "                map_location=self.device\n",
        "            ))\n",
        "            with open(os.path.join(checkpoint_dir, \"loss.json\"), 'r', encoding='utf-8') as ifile:\n",
        "                self.loss_history = json.load(ifile)\n",
        "\n",
        "    def save(self, checkpoint=None, metadata=None):\n",
        "        \"\"\" Saves an associated model or a training checkpoint.\n",
        "\n",
        "            If a checkpoint is specified, saves a checkpoint specific directory with optimizer data\n",
        "                so that training can be resumed post that checkpoint.\n",
        "\n",
        "        Args:\n",
        "            checkpoint (int, optional): Checkpoint index. Defaults to None.\n",
        "            metadata (dict[str, any], optional): Additional metadata to save alongside a checkpoint. Defaults to None.\n",
        "        \"\"\"\n",
        "\n",
        "        if checkpoint is not None:\n",
        "            checkpoint_dir = os.path.join(self.directory, f\"checkpoint-{checkpoint}\")\n",
        "            os.makedirs(checkpoint_dir, exist_ok=True)\n",
        "            torch.save(self.model.state_dict(), os.path.join(checkpoint_dir, \"model.pt\"))\n",
        "            torch.save(self.optimizer.state_dict(), os.path.join(checkpoint_dir, \"optimizer.pt\"))\n",
        "            with open(os.path.join(checkpoint_dir, \"loss.json\"), \"w+\", encoding='utf-8') as ofile:\n",
        "                json.dump(self.loss_history, ofile, ensure_ascii=False, indent=2)\n",
        "            if metadata:\n",
        "                with open(os.path.join(checkpoint_dir, \"metadata.json\"), \"w+\", encoding='utf-8') as ofile:\n",
        "                    json.dump(metadata, ofile, ensure_ascii=False, indent=2)\n",
        "        else:\n",
        "            torch.save(self.model, os.path.join(self.directory, \"model.pt\"))\n",
        "            with open(os.path.join(self.directory, \"loss.json\"), \"w+\", encoding='utf-8') as ofile:\n",
        "                json.dump(self.loss_history, ofile, ensure_ascii=False, indent=2)\n",
        "            if metadata:\n",
        "                with open(os.path.join(self.directory, \"metadata.json\"), \"w+\", encoding='utf-8') as ofile:\n",
        "                    json.dump(metadata, ofile, ensure_ascii=False, indent=2)\n",
        "\n",
        "## ==== END EVALUATION PORTION"
      ]
    },
    {
      "cell_type": "markdown",
      "metadata": {
        "id": "ojRHAENJ7S1I"
      },
      "source": [
        "To test that the trainer works, try training a simple MLP network:"
      ]
    },
    {
      "cell_type": "code",
      "execution_count": 20,
      "metadata": {
        "id": "I8Qo2vdo7S1I"
      },
      "outputs": [],
      "source": [
        "X_train = torch.rand((500, 2))                      # (N x 2)\n",
        "X_dev   = torch.rand((20 , 2))                      # (N x 2)\n",
        "\n",
        "Y_train = (X_train[:, 0] - X_train[:, 1])[:, None]  # (N x 1)\n",
        "Y_dev   = (X_dev  [:, 0] - X_dev  [:, 1])[:, None]  # (N x 1)\n",
        "\n",
        "dummy_train_dataset = TensorDataset(X_train, Y_train)\n",
        "dummy_val_dataset   = TensorDataset(X_dev  , Y_dev  )"
      ]
    },
    {
      "cell_type": "code",
      "execution_count": 21,
      "metadata": {
        "id": "i63ykUv37S1I"
      },
      "outputs": [
        {
          "name": "stderr",
          "output_type": "stream",
          "text": [
            "Epoch 3 / 10:  20%|██        | 102/500 [00:15<00:52,  7.56it/s, batch=2, loss=0.152]  "
          ]
        },
        {
          "name": "stdout",
          "output_type": "stream",
          "text": [
            "[>] epoch # 2, batch #50: loss: 0.08717605 | val_loss: 0.24875300\n"
          ]
        },
        {
          "name": "stderr",
          "output_type": "stream",
          "text": [
            "Epoch 5 / 10:  40%|████      | 202/500 [00:30<00:47,  6.31it/s, batch=2, loss=0.11]   "
          ]
        },
        {
          "name": "stdout",
          "output_type": "stream",
          "text": [
            "[>] epoch # 4, batch #50: loss: 0.05953729 | val_loss: 0.23916664\n"
          ]
        },
        {
          "name": "stderr",
          "output_type": "stream",
          "text": [
            "Epoch 7 / 10:  60%|██████    | 301/500 [00:44<00:29,  6.83it/s, batch=1, loss=0.141]  "
          ]
        },
        {
          "name": "stdout",
          "output_type": "stream",
          "text": [
            "[>] epoch # 6, batch #50: loss: 0.11604390 | val_loss: 0.23651055\n"
          ]
        },
        {
          "name": "stderr",
          "output_type": "stream",
          "text": [
            "Epoch 9 / 10:  80%|████████  | 402/500 [00:58<00:14,  6.93it/s, batch=2, loss=0.124]  "
          ]
        },
        {
          "name": "stdout",
          "output_type": "stream",
          "text": [
            "[>] epoch # 8, batch #50: loss: 0.10760094 | val_loss: 0.23343916\n"
          ]
        },
        {
          "name": "stderr",
          "output_type": "stream",
          "text": [
            "Epoch 10 / 10: 100%|██████████| 500/500 [01:12<00:00,  6.85it/s, batch=50, loss=0.112] "
          ]
        },
        {
          "name": "stdout",
          "output_type": "stream",
          "text": [
            "[>] epoch #10, batch #50: loss: 0.11188128 | val_loss: 0.22699560\n"
          ]
        },
        {
          "name": "stderr",
          "output_type": "stream",
          "text": [
            "\n"
          ]
        }
      ],
      "source": [
        "model = torch.nn.Sequential(\n",
        "    torch.nn.Linear(2, 4),\n",
        "    torch.nn.ReLU(),\n",
        "    torch.nn.Linear(4, 1)\n",
        ")\n",
        "\n",
        "loss_fn = torch.nn.MSELoss()\n",
        "optimizer = torch.optim.SGD(model.parameters(), lr=0.01)\n",
        "\n",
        "trainer = Trainer(\"mlp\", model, loss_fn, optimizer)\n",
        "trainer.train(dummy_train_dataset, dummy_val_dataset, batch_size=10, save_steps=300)"
      ]
    },
    {
      "cell_type": "markdown",
      "metadata": {
        "id": "-4hvE3VK7S1J"
      },
      "source": [
        "## Seq-2-Seq Modeling with RNNs"
      ]
    },
    {
      "cell_type": "markdown",
      "metadata": {
        "id": "q32giBvl7S1J"
      },
      "source": [
        "In this section, you will implement an encoder-decoder network using RNNs, to learn a conditional language model for the task of translating the names to Hindi.\n",
        "\n",
        "You can use any type of RNN for this purpose: `RNN`, `GRU`, `LSTM`, etc. Consult the pytorch documentation for additional information.\n",
        "\n",
        "Additional tips for training:\n",
        "- Use regularization: Dropout, etc.\n",
        "- Use a suitable optimizer, such as Adam.\n",
        "- Format data accordingly before passing it to the trainer, using the helper functions.\n",
        "- Do you need to pad sequences when processing inputs as a batch?"
      ]
    },
    {
      "cell_type": "code",
      "execution_count": 22,
      "metadata": {
        "id": "qgJfdMYX7S1K"
      },
      "outputs": [],
      "source": [
        "## ==== BEGIN EVALUATION PORTION\n",
        "\n",
        "class RNNEncoderDecoderLM(torch.nn.Module):\n",
        "    \"\"\" Implements an Encoder-Decoder network, using RNN units. \"\"\"\n",
        "\n",
        "    # Feel free to add additional parameters to __init__\n",
        "    def __init__(self, src_vocab_size, tgt_vocab_size, embd_dims, hidden_size, num_layers=1, dropout=0.1):\n",
        "        \"\"\" Initializes the encoder-decoder network, implemented via RNNs.\n",
        "\n",
        "        Args:\n",
        "            src_vocab_size (int): Source vocabulary size.\n",
        "            tgt_vocab_size (int): Target vocabulary size.\n",
        "            embd_dims (int): Embedding dimensions.\n",
        "            hidden_size (int): Size/Dimensions for the hidden states.\n",
        "        \"\"\"\n",
        "\n",
        "        super(RNNEncoderDecoderLM, self).__init__()\n",
        "\n",
        "        # Dummy parameter to track the model device. Do not modify.\n",
        "        self._dummy_param = torch.nn.Parameter(torch.Tensor(0), requires_grad=False)\n",
        "\n",
        "        # BEGIN CODE : enc-dec-rnn.init\n",
        "\n",
        "        # ADD YOUR CODE HERE\n",
        "        self.src_vocab_size = src_vocab_size\n",
        "        self.tgt_vocab_size = tgt_vocab_size\n",
        "        self.embd_dims = embd_dims\n",
        "        self.hidden_size = hidden_size\n",
        "        self.num_layers = num_layers\n",
        "        self.dropout_rate = dropout\n",
        "        self.pad_token_id = 0\n",
        "        self.bos_token_id = 1\n",
        "        self.eos_token_id = 2\n",
        "        self.encoder_embed = torch.nn.Embedding(src_vocab_size, embd_dims)\n",
        "        self.encoder_rnn = torch.nn.GRU(\n",
        "            embd_dims, hidden_size, num_layers=num_layers,\n",
        "            dropout=dropout if num_layers > 1 else 0, batch_first=True\n",
        "        )\n",
        "        self.decoder_embed = torch.nn.Embedding(tgt_vocab_size, embd_dims)\n",
        "        self.decoder_rnn = torch.nn.GRU(\n",
        "            embd_dims, hidden_size, num_layers=num_layers,\n",
        "            dropout=dropout if num_layers > 1 else 0, batch_first=True\n",
        "        )\n",
        "\n",
        "        self.fc_out = torch.nn.Linear(hidden_size, tgt_vocab_size)\n",
        "        self.dropout = torch.nn.Dropout(dropout)\n",
        "        # END CODE\n",
        "\n",
        "    @property\n",
        "    def device(self):\n",
        "        \"\"\" Returns the device the model parameters are on. \"\"\"\n",
        "        return self._dummy_param.device\n",
        "\n",
        "    def forward(self, inputs, decoder_inputs, decoder_hidden_state=None):\n",
        "        \"\"\" Performs a forward pass over the encoder-decoder network.\n",
        "\n",
        "            Accepts inputs for the encoder, inputs for the decoder, and hidden state for\n",
        "                the decoder to continue generation after the given input.\n",
        "\n",
        "        Args:\n",
        "            inputs (torch.Tensor): tensor of shape [batch_size?, max_seq_length]\n",
        "            decoder_inputs (torch.Tensor): tensor of shape [batch_size?, 1]\n",
        "            decoder_hidden_state (any): tensor to represent decoder hidden state from time step T-1.\n",
        "\n",
        "        Returns:\n",
        "            tuple[torch.Tensor, any]: output from the decoder, and associated hidden state for the next step.\n",
        "            Decoder outputs should be log probabilities over the target vocabulary.\n",
        "        \"\"\"\n",
        "\n",
        "        # BEGIN CODE : enc-dec-rnn.forward\n",
        "\n",
        "        # ADD YOUR CODE HERE\n",
        "        encoder_embed = self.dropout(self.encoder_embed(inputs))\n",
        "        encoder_outputs, hidden = self.encoder_rnn(encoder_embed)\n",
        "\n",
        "\n",
        "        decoder_embedded = self.dropout(self.decoder_embed(decoder_inputs))\n",
        "\n",
        "        if decoder_hidden_state is None:\n",
        "            decoder_hidden_state = hidden\n",
        "\n",
        "        decoder_outputs, decoder_hidden_state = self.decoder_rnn(decoder_embedded, decoder_hidden_state)\n",
        "        logits = self.fc_out(decoder_outputs)\n",
        "        log_probs = torch.nn.functional.log_softmax(logits, dim=-1)\n",
        "\n",
        "        return log_probs, decoder_hidden_state\n",
        "        # END CODE\n",
        "\n",
        "    def log_probability(self, seq_x, seq_y):\n",
        "        \"\"\" Compute the conditional log probability of seq_y given seq_x, i.e., log P(seq_y | seq_x).\n",
        "\n",
        "        Args:\n",
        "            seq_x (torch.tensor): Input sequence of tokens.\n",
        "            seq_y (torch.tensor): Output sequence of tokens.\n",
        "\n",
        "        Returns:\n",
        "            float: Log probability of seq_y given seq_x\n",
        "        \"\"\"\n",
        "\n",
        "        # BEGIN CODE : enc-dec-rnn.log_probability\n",
        "\n",
        "        # ADD YOUR CODE HERE\n",
        "        input_embeddings = self.dropout(self.encoder_embed(seq_x.unsqueeze(0)))\n",
        "        encoder_output, hidden = self.encoder_rnn(input_embeddings)\n",
        "\n",
        "        token_decode = torch.tensor([[self.bos_token_id]], device=self.device)\n",
        "        total_log_prob = 0.0\n",
        "\n",
        "        for i in range(1, len(seq_y)):\n",
        "            decoder_embeddings = self.dropout(self.decoder_embed(token_decode))\n",
        "            rnn_output, hidden = self.decoder_rnn(decoder_embeddings, hidden)\n",
        "            output_logits = self.fc_out(rnn_output)\n",
        "            token_log_probs = torch.nn.functional.log_softmax(output_logits, dim=2)\n",
        "\n",
        "            total_log_prob += token_log_probs[0, 0, seq_y[i]]\n",
        "\n",
        "            token_decode = seq_y[i].unsqueeze(0).unsqueeze(0)\n",
        "\n",
        "            if seq_y[i].item() == self.eos_token_id:\n",
        "                break\n",
        "\n",
        "        return total_log_prob.item()\n",
        "        # END CODE\n",
        "\n",
        "## ==== END EVALUATION PORTION"
      ]
    },
    {
      "cell_type": "markdown",
      "metadata": {
        "id": "djZmH1UT7S1K"
      },
      "source": [
        "To train the above model, implement for training and evaluation steps in the `RNNEncoderDecoderTrainer` class below:"
      ]
    },
    {
      "cell_type": "code",
      "execution_count": 23,
      "metadata": {
        "id": "plixWQjn7S1K"
      },
      "outputs": [],
      "source": [
        "## ==== BEGIN EVALUATION PORTION\n",
        "\n",
        "class RNNEncoderDecoderTrainer(Trainer):\n",
        "    \"\"\" Performs model training for RNN-based Encoder-Decoder models. \"\"\"\n",
        "\n",
        "    def __init__(self, directory, model, criterion, optimizer):\n",
        "        \"\"\" Initializes the trainer.\n",
        "\n",
        "        Args:\n",
        "            directory (str): Directory to save checkpoints and the model data in.\n",
        "            model (torch.nn.Module): Torch model to train.\n",
        "            criterion (torch.nn.Function): Loss Criterion.\n",
        "            optimizer (torch.optim.Optimizer): Optimizer to use.\n",
        "        \"\"\"\n",
        "\n",
        "        super(RNNEncoderDecoderTrainer, self).__init__(directory, model, criterion, optimizer)\n",
        "\n",
        "    @staticmethod\n",
        "    def make_dataloader(dataset, shuffle_data=True, batch_size=8, collate_fn=None):\n",
        "        \"\"\" Create a dataloader for a torch Dataset.\n",
        "\n",
        "        Args:\n",
        "            dataset (torch.utils.data.Dataset): Dataset to process.\n",
        "            shuffle_data (bool, optional): If true, shuffles the data. Defaults to True.\n",
        "            batch_size (int, optional): Number of items per batch. Defaults to 8.\n",
        "            collate_fn (function, optional): Function to collate instances in a batch.\n",
        "\n",
        "        Returns:\n",
        "            torch.utils.data.DataLoader: Dataloader over the given data, post processing.\n",
        "        \"\"\"\n",
        "\n",
        "        # BEGIN CODE : rnn-enc-dec-trainer.make_dataloader\n",
        "\n",
        "        # ADD YOUR CODE HERE\n",
        "        return DataLoader(dataset, shuffle=shuffle_data, batch_size=batch_size, collate_fn=collate_fn)\n",
        "\n",
        "        # END CODE\n",
        "\n",
        "    def train_step(self, x_batch, y_batch):\n",
        "        \"\"\" Performs a step of training, on the training batch.\n",
        "\n",
        "        Args:\n",
        "            x_batch (torch.Tensor): Input batch tensor, of shape [batch_size, *instance_shape].\n",
        "              For RNNs this is [batch_size, src_padding] or a torch.nn.utils.rnn.PackedSequence of varying lengths per batch (depends on padding).\n",
        "            y_batch (torch.Tensor): Output batch tensor, of shape [batch_size, *instance_shape].\n",
        "              For RNNs this is [batch_size, tgt_padding] or a torch.nn.utils.rnn.PackedSequence of varying lengths per batch (depends on padding).\n",
        "\n",
        "        Returns:\n",
        "            float: Training loss with the current model, on this batch.\n",
        "        \"\"\"\n",
        "\n",
        "        # BEGIN CODE : rnn-enc-dec-trainer.train_step\n",
        "\n",
        "        # ADD YOUR CODE HERE\n",
        "        self.model.train()\n",
        "        self.optimizer.zero_grad()\n",
        "\n",
        "\n",
        "        x_batch = x_batch.to(self.device)\n",
        "        y_batch = y_batch.to(self.device)\n",
        "\n",
        "\n",
        "        output, _ = self.model(x_batch, decoder_inputs=y_batch[:, :-1])\n",
        "\n",
        "\n",
        "        total_loss = self.criterion(\n",
        "            output.view(-1, output.size(-1)),\n",
        "            y_batch[:, 1:].contiguous().view(-1)\n",
        "        )\n",
        "\n",
        "\n",
        "        total_loss.backward()\n",
        "        torch.nn.utils.clip_grad_norm_(self.model.parameters(), 1.0)\n",
        "        self.optimizer.step()\n",
        "\n",
        "        return total_loss.item()\n",
        "        # END CODE\n",
        "\n",
        "    def eval_step(self, validation_dataloader):\n",
        "        \"\"\" Perfoms an evaluation step, on the validation dataloader.\n",
        "\n",
        "        Args:\n",
        "            validation_dataloader (torch.utils.data.DataLoader): Dataloader for the validation dataset.\n",
        "\n",
        "        Returns:\n",
        "            float: Validation loss with the current model checkpoint.\n",
        "        \"\"\"\n",
        "\n",
        "        # BEGIN CODE : rnn-enc-dec-trainer.eval_step\n",
        "\n",
        "        # ADD YOUR CODE HERE\n",
        "        self.model.eval()\n",
        "        total_loss = 0\n",
        "        total_items = 0\n",
        "\n",
        "        with torch.no_grad():\n",
        "            for x_batch, y_batch in validation_dataloader:\n",
        "                x_batch = x_batch.to(self.device)\n",
        "                y_batch = y_batch.to(self.device)\n",
        "\n",
        "\n",
        "                output, _ = self.model(x_batch, y_batch[:, :-1])\n",
        "\n",
        "                loss = self.criterion(\n",
        "                    output.view(-1, output.size(-1)),\n",
        "                    y_batch[:, 1:].contiguous().view(-1)\n",
        "                )\n",
        "\n",
        "                total_loss += loss.item() * x_batch.size(0)\n",
        "                total_items += x_batch.size(0)\n",
        "\n",
        "        return total_loss / total_items\n",
        "        # END CODE\n",
        "\n",
        "## ==== END EVALUATION PORTION"
      ]
    },
    {
      "cell_type": "code",
      "execution_count": 24,
      "metadata": {
        "id": "AX2RQOe87S1L"
      },
      "outputs": [],
      "source": [
        "## == BEGIN EVALUATION PORTION\n",
        "\n",
        "# Edit the hyperparameters below to your desired values.\n",
        "\n",
        "# BEGIN CODE : rnn-enc-dec.params\n",
        "\n",
        "# Add parameters related to the model here.\n",
        "rnn_enc_dec_params = {\n",
        "    'src_vocab_size': src_tokenizer.get_vocabulary().__len__(),\n",
        "    'tgt_vocab_size': tgt_tokenizer.get_vocabulary().__len__(),\n",
        "    'embd_dims'     : 256,\n",
        "    'hidden_size'   : 512,\n",
        "    'dropout'       : 0.3,\n",
        "    'num_layers'    : 2\n",
        "}\n",
        "\n",
        "# Add parameters related to the dataset processing here.\n",
        "rnn_enc_dec_data_params = dict(\n",
        "    src_padding=max(len(tokens) for tokens in src_tokenizer.batch_encode(train_data['Name'])),\n",
        "    tgt_padding=max(len(tokens) for tokens in tgt_tokenizer.batch_encode(train_data['Translation'])),\n",
        ")\n",
        "\n",
        "# Add parameters related to training here.\n",
        "rnn_enc_dec_training_params = dict(\n",
        "    num_epochs=10,\n",
        "    batch_size=32,\n",
        "    shuffle=True,\n",
        "    save_steps=150,\n",
        "    eval_steps=100\n",
        ")\n",
        "\n",
        "# END CODE\n",
        "\n",
        "# Do not forget to set a deterministic seed.\n",
        "torch.manual_seed(42)\n",
        "\n",
        "model = RNNEncoderDecoderLM(**rnn_enc_dec_params)\n",
        "\n",
        "# BEGIN CODE : rnn-enc-dec.train\n",
        "\n",
        "# ADD YOUR CODE HERE\n",
        "optimizer = torch.optim.AdamW(model.parameters(), lr=0.001)\n",
        "criterion = torch.nn.CrossEntropyLoss(ignore_index=tgt_tokenizer.get_special_tokens()['[PAD]'],label_smoothing=0.008)\n",
        "\n",
        "# END CODE\n",
        "\n",
        "trainer = RNNEncoderDecoderTrainer(\n",
        "    os.path.join(DIRECTORY_NAME, \"rnn.enc-dec\"),\n",
        "    model, criterion, optimizer\n",
        ")\n",
        "\n",
        "## == END EVALUATION PORTION"
      ]
    },
    {
      "cell_type": "code",
      "execution_count": 25,
      "metadata": {
        "id": "ZGSIuMYP7S1L"
      },
      "outputs": [
        {
          "name": "stderr",
          "output_type": "stream",
          "text": [
            "Epoch 1 / 10:   7%|▋         | 102/1410 [00:16<04:01,  5.41it/s, batch=102, loss=3.19]"
          ]
        },
        {
          "name": "stdout",
          "output_type": "stream",
          "text": [
            "[>] epoch # 1, batch #100: loss: 3.38720202 | val_loss: 3.14135695\n"
          ]
        },
        {
          "name": "stderr",
          "output_type": "stream",
          "text": [
            "Epoch 2 / 10:  14%|█▍        | 202/1410 [00:33<03:13,  6.26it/s, batch=61, loss=2.26] "
          ]
        },
        {
          "name": "stdout",
          "output_type": "stream",
          "text": [
            "[>] epoch # 2, batch # 59: loss: 2.38799930 | val_loss: 2.07654833\n"
          ]
        },
        {
          "name": "stderr",
          "output_type": "stream",
          "text": [
            "Epoch 3 / 10:  21%|██▏       | 300/1410 [00:48<02:54,  6.37it/s, batch=18, loss=1.21] "
          ]
        },
        {
          "name": "stdout",
          "output_type": "stream",
          "text": [
            "[>] epoch # 3, batch # 18: loss: 1.20742571 | val_loss: 1.40093257\n"
          ]
        },
        {
          "name": "stderr",
          "output_type": "stream",
          "text": [
            "Epoch 3 / 10:  29%|██▊       | 402/1410 [01:04<02:53,  5.80it/s, batch=120, loss=1.18] "
          ]
        },
        {
          "name": "stdout",
          "output_type": "stream",
          "text": [
            "[>] epoch # 3, batch #118: loss: 0.93503070 | val_loss: 1.09334204\n"
          ]
        },
        {
          "name": "stderr",
          "output_type": "stream",
          "text": [
            "Epoch 4 / 10:  36%|███▌      | 502/1410 [01:20<02:55,  5.18it/s, batch=79, loss=0.859] "
          ]
        },
        {
          "name": "stdout",
          "output_type": "stream",
          "text": [
            "[>] epoch # 4, batch # 77: loss: 0.76497787 | val_loss: 0.90731805\n"
          ]
        },
        {
          "name": "stderr",
          "output_type": "stream",
          "text": [
            "Epoch 5 / 10:  43%|████▎     | 600/1410 [01:36<02:14,  6.02it/s, batch=36, loss=0.527] "
          ]
        },
        {
          "name": "stdout",
          "output_type": "stream",
          "text": [
            "[>] epoch # 5, batch # 36: loss: 0.52716714 | val_loss: 0.85883121\n"
          ]
        },
        {
          "name": "stderr",
          "output_type": "stream",
          "text": [
            "Epoch 5 / 10:  50%|████▉     | 702/1410 [01:52<02:16,  5.20it/s, batch=138, loss=0.561]"
          ]
        },
        {
          "name": "stdout",
          "output_type": "stream",
          "text": [
            "[>] epoch # 5, batch #136: loss: 0.50895870 | val_loss: 0.83527217\n"
          ]
        },
        {
          "name": "stderr",
          "output_type": "stream",
          "text": [
            "Epoch 6 / 10:  57%|█████▋    | 802/1410 [02:09<01:43,  5.85it/s, batch=97, loss=0.481] "
          ]
        },
        {
          "name": "stdout",
          "output_type": "stream",
          "text": [
            "[>] epoch # 6, batch # 95: loss: 0.36537531 | val_loss: 0.79834470\n"
          ]
        },
        {
          "name": "stderr",
          "output_type": "stream",
          "text": [
            "Epoch 7 / 10:  64%|██████▍   | 900/1410 [02:24<01:18,  6.53it/s, batch=54, loss=0.351] "
          ]
        },
        {
          "name": "stdout",
          "output_type": "stream",
          "text": [
            "[>] epoch # 7, batch # 54: loss: 0.35123071 | val_loss: 0.80124250\n"
          ]
        },
        {
          "name": "stderr",
          "output_type": "stream",
          "text": [
            "Epoch 8 / 10:  71%|███████   | 1002/1410 [02:41<01:12,  5.59it/s, batch=15, loss=0.292]"
          ]
        },
        {
          "name": "stdout",
          "output_type": "stream",
          "text": [
            "[>] epoch # 8, batch # 13: loss: 0.35807213 | val_loss: 0.80509875\n"
          ]
        },
        {
          "name": "stderr",
          "output_type": "stream",
          "text": [
            "Epoch 8 / 10:  78%|███████▊  | 1102/1410 [02:57<00:54,  5.67it/s, batch=115, loss=0.328]"
          ]
        },
        {
          "name": "stdout",
          "output_type": "stream",
          "text": [
            "[>] epoch # 8, batch #113: loss: 0.30430773 | val_loss: 0.81979572\n"
          ]
        },
        {
          "name": "stderr",
          "output_type": "stream",
          "text": [
            "Epoch 9 / 10:  85%|████████▌ | 1200/1410 [03:12<00:32,  6.50it/s, batch=72, loss=0.302] "
          ]
        },
        {
          "name": "stdout",
          "output_type": "stream",
          "text": [
            "[>] epoch # 9, batch # 72: loss: 0.30157411 | val_loss: 0.81104199\n"
          ]
        },
        {
          "name": "stderr",
          "output_type": "stream",
          "text": [
            "Epoch 10 / 10:  92%|█████████▏| 1302/1410 [03:30<00:20,  5.25it/s, batch=33, loss=0.229] "
          ]
        },
        {
          "name": "stdout",
          "output_type": "stream",
          "text": [
            "[>] epoch #10, batch # 31: loss: 0.27796513 | val_loss: 0.81231793\n"
          ]
        },
        {
          "name": "stderr",
          "output_type": "stream",
          "text": [
            "Epoch 10 / 10:  99%|█████████▉| 1401/1410 [03:47<00:01,  4.87it/s, batch=132, loss=0.364]"
          ]
        },
        {
          "name": "stdout",
          "output_type": "stream",
          "text": [
            "[>] epoch #10, batch #131: loss: 0.33606535 | val_loss: 0.82838640\n"
          ]
        },
        {
          "name": "stderr",
          "output_type": "stream",
          "text": [
            "Epoch 10 / 10: 100%|██████████| 1410/1410 [03:49<00:00,  6.14it/s, batch=141, loss=0.207]\n"
          ]
        }
      ],
      "source": [
        "# Please do not change anything in the following cell.\n",
        "\n",
        "train_dataset      = TokenizerDataset(train_data     , src_tokenizer, tgt_tokenizer, **rnn_enc_dec_data_params)\n",
        "validation_dataset = TokenizerDataset(validation_data, src_tokenizer, tgt_tokenizer, **rnn_enc_dec_data_params)\n",
        "\n",
        "rnn_enc_dec_train_data = dict(\n",
        "    train_dataset=train_dataset,\n",
        "    validation_dataset=validation_dataset,\n",
        "    collate_fn=train_dataset.collate\n",
        ")\n",
        "\n",
        "# Resume training from the last checkpoint, if interrupted midway, else begins training from scratch.\n",
        "trainer.resume()\n",
        "\n",
        "# Train as per specified training parameters.\n",
        "trainer.train(**rnn_enc_dec_train_data, **rnn_enc_dec_training_params)"
      ]
    },
    {
      "cell_type": "code",
      "execution_count": 26,
      "metadata": {
        "id": "GtcTRlgs7S1M"
      },
      "outputs": [],
      "source": [
        "# Please do not change anything in the following cell.\n",
        "\n",
        "# Save the final model, with additional metadata.\n",
        "trainer.save(metadata={\n",
        "    'model'   : rnn_enc_dec_params,\n",
        "    'data'    : rnn_enc_dec_data_params,\n",
        "    'training': rnn_enc_dec_training_params\n",
        "})"
      ]
    },
    {
      "cell_type": "markdown",
      "metadata": {
        "id": "YUshh3Uv7S1N"
      },
      "source": [
        "To validate training, look at sample translations for different examples, and probabilities assigned to different outputs.\n",
        "\n",
        "Extensive evaluation and comparison against other approaches will be carried out later."
      ]
    },
    {
      "cell_type": "code",
      "execution_count": 27,
      "metadata": {
        "id": "USVATGO17S1O"
      },
      "outputs": [],
      "source": [
        "def rnn_greedy_generate(model, seq_x, src_tokenizer, tgt_tokenizer, max_length):\n",
        "    \"\"\" Given a source string, translate it to the target language using the trained model.\n",
        "        This function should perform greedy sampling to generate the results.\n",
        "\n",
        "    Args:\n",
        "        model (nn.Module): RNN Type Encoder-Decoder Model\n",
        "        seq_x (str): Input string to translate.\n",
        "        src_tokenizer (Tokenizer): Source language tokenizer.\n",
        "        tgt_tokenizer (Tokenizer): Target language tokenizer.\n",
        "        max_length (int): Maximum length of the target sequence to decode.\n",
        "\n",
        "    Returns:\n",
        "        str: Generated string for the given input in the target language.\n",
        "    \"\"\"\n",
        "\n",
        "    # BEGIN CODE : enc-dec-rnn.greedy_generate\n",
        "\n",
        "    # ADD YOUR CODE HERE\n",
        "    model.eval()\n",
        "\n",
        "\n",
        "    src_tkn = src_tokenizer.encode(seq_x, add_start=True, add_end=True)\n",
        "    src_tkn = torch.tensor(src_tkn, device=model.device).unsqueeze(0)\n",
        "    eos_id = tgt_tokenizer.get_special_tokens()['[EOS]']\n",
        "    bos_id = tgt_tokenizer.get_special_tokens()['[BOS]']\n",
        "    decoder_input = torch.tensor([[bos_id]], device=model.device)\n",
        "    target_token = [bos_id]\n",
        "\n",
        "    with torch.no_grad():\n",
        "        embedded_src = model.encoder_embed(src_tkn)\n",
        "        encoder_outputs, hidden = model.encoder_rnn(embedded_src)\n",
        "\n",
        "        for _ in range(max_length):\n",
        "            embed_target = model.decoder_embed(decoder_input)\n",
        "\n",
        "            if hasattr(model, \"attention\"):\n",
        "                decoder_hidden_last_state = hidden[-1].unsqueeze(1)\n",
        "                attention_wts = model.attention(encoder_outputs, decoder_hidden_last_state)\n",
        "                if attention_wts.dim() == 2:\n",
        "                    attention_wts = attention_wts.unsqueeze(1)\n",
        "\n",
        "                if encoder_outputs.dim() == 2:\n",
        "                    encoder_outputs = encoder_outputs.unsqueeze(0)\n",
        "                context = torch.bmm(attention_wts, encoder_outputs)\n",
        "                input_to_rnn = torch.cat((embed_target, context), dim=2)\n",
        "            else:\n",
        "                input_to_rnn = embed_target\n",
        "\n",
        "            decoder_output, hidden = model.decoder_rnn(input_to_rnn, hidden)\n",
        "\n",
        "            if hasattr(model, \"attention\"):\n",
        "                output = torch.cat((decoder_output, context), dim=2)\n",
        "            else:\n",
        "                output = decoder_output\n",
        "            logits = model.fc_out(output.squeeze(1))\n",
        "            next_token = torch.argmax(logits, dim=-1).item()\n",
        "\n",
        "            if next_token == eos_id:\n",
        "                break\n",
        "\n",
        "            target_token.append(next_token)\n",
        "            decoder_input = torch.tensor([[next_token]], device=model.device)\n",
        "\n",
        "    return tgt_tokenizer.decode(target_token, strip_special=True)\n",
        "    # END CODE"
      ]
    },
    {
      "cell_type": "code",
      "execution_count": 28,
      "metadata": {
        "id": "tz4Ud06A7S1O"
      },
      "outputs": [
        {
          "name": "stdout",
          "output_type": "stream",
          "text": [
            "Name                      : वरिषा\n",
            "Translation (Expected)    : varisha\n",
            "Translation (Model)       : varisha\n",
            "\n",
            "Name                      : उजामा\n",
            "Translation (Expected)    : ujama\n",
            "Translation (Model)       : ujama\n",
            "\n",
            "Name                      : बिपिन\n",
            "Translation (Expected)    : bipin\n",
            "Translation (Model)       : bipin\n",
            "\n",
            "Name                      : मित्ठू\n",
            "Translation (Expected)    : mitthu\n",
            "Translation (Model)       : mitthu\n",
            "\n",
            "Name                      : रामैया\n",
            "Translation (Expected)    : ramaiya\n",
            "Translation (Model)       : ramaiya\n",
            "\n"
          ]
        }
      ],
      "source": [
        "# Please do not change anything in the following cell.\n",
        "\n",
        "for _, row in train_data.sample(n=5, random_state=42).iterrows():\n",
        "    y_pred = rnn_greedy_generate(\n",
        "        model, row['Name'], src_tokenizer, tgt_tokenizer,\n",
        "        max_length = rnn_enc_dec_data_params['tgt_padding']\n",
        "    )\n",
        "\n",
        "    print(\"Name                      :\", row['Name'])\n",
        "    print(\"Translation (Expected)    :\", row['Translation'])\n",
        "    print(\"Translation (Model)       :\", y_pred)\n",
        "\n",
        "    print()"
      ]
    },
    {
      "cell_type": "code",
      "execution_count": 29,
      "metadata": {
        "id": "FvEL5aYR7S1O"
      },
      "outputs": [
        {
          "name": "stdout",
          "output_type": "stream",
          "text": [
            "Name                      : दीन\n",
            "Translation (Expected)    : deen\n",
            "Translation (Model)       : deen\n",
            "\n",
            "Name                      : मुर्शिदा\n",
            "Translation (Expected)    : murshida\n",
            "Translation (Model)       : mursida\n",
            "\n",
            "Name                      : शबरा\n",
            "Translation (Expected)    : shabra\n",
            "Translation (Model)       : shabra\n",
            "\n",
            "Name                      : श्रीकांत\n",
            "Translation (Expected)    : shrikant\n",
            "Translation (Model)       : srikant\n",
            "\n",
            "Name                      : कौशल\n",
            "Translation (Expected)    : kaushal\n",
            "Translation (Model)       : kaushal\n",
            "\n"
          ]
        }
      ],
      "source": [
        "# Please do not change anything in the following cell.\n",
        "\n",
        "for _, row in validation_data.sample(n=5, random_state=42).iterrows():\n",
        "    y_pred = rnn_greedy_generate(\n",
        "        model, row['Name'], src_tokenizer, tgt_tokenizer,\n",
        "        max_length = rnn_enc_dec_data_params['tgt_padding']\n",
        "    )\n",
        "\n",
        "    print(\"Name                      :\", row['Name'])\n",
        "    print(\"Translation (Expected)    :\", row['Translation'])\n",
        "    print(\"Translation (Model)       :\", y_pred)\n",
        "\n",
        "    print()"
      ]
    },
    {
      "cell_type": "code",
      "execution_count": 30,
      "metadata": {
        "id": "GaoL9IUrsaFU"
      },
      "outputs": [],
      "source": [
        "# Please do not change anything in the following cell.\n",
        "\n",
        "output_data = []\n",
        "for _, row in validation_data.iterrows():\n",
        "    y_pred = rnn_greedy_generate(\n",
        "        model, row['Name'], src_tokenizer, tgt_tokenizer,\n",
        "        max_length = rnn_enc_dec_data_params['tgt_padding']\n",
        "    )\n",
        "    output_data.append({ 'Name': row['Name'], 'Translation': y_pred })\n",
        "\n",
        "pd.DataFrame.from_records(output_data).to_csv(\n",
        "    os.path.join(DIRECTORY_NAME, \"rnn.enc-dec\", \"outputs.csv\"), index=False\n",
        ")"
      ]
    },
    {
      "cell_type": "code",
      "execution_count": 31,
      "metadata": {
        "id": "-XRDFy1U7S1P"
      },
      "outputs": [],
      "source": [
        "# Please do not change anything in the following cell.\n",
        "\n",
        "# Release resources\n",
        "if 'trainer' in globals():\n",
        "    del trainer\n",
        "\n",
        "if 'model' in globals():\n",
        "    del model\n",
        "\n",
        "sync_vram()"
      ]
    },
    {
      "cell_type": "markdown",
      "metadata": {
        "id": "gkAB3ivx7S1Q"
      },
      "source": [
        "## Seq-2-Seq Modeling with RNN + Attention"
      ]
    },
    {
      "cell_type": "markdown",
      "metadata": {
        "id": "YPpFw0Fn7S1Q"
      },
      "source": [
        "In this module, you'll augment the Encoder-Decoder architecture to utilize attention, by implementing an Attention module that attends over the representations / inputs from the encoder.\n",
        "\n",
        "Many approaches have been proposed in literature towards implementing attention. You are free to explore and use any implementation of your choice.\n",
        "\n",
        "Some popular approaches are desribed in the original [paper by Bahdanau et al., 2014 on NMT](https://arxiv.org/abs/1409.0473) and an [exploratory paper by Luong et al, 2015](https://arxiv.org/abs/1508.04025) which explores different effective approaches to attention, including global and local attention."
      ]
    },
    {
      "cell_type": "code",
      "execution_count": 32,
      "metadata": {
        "id": "l2wmAoC77S1R"
      },
      "outputs": [],
      "source": [
        "## ==== BEGIN EVALUATION PORTION\n",
        "\n",
        "class AttentionModule(torch.nn.Module):\n",
        "    \"\"\" Implements an attention module \"\"\"\n",
        "\n",
        "    # Feel free to add additional parameters to __init__\n",
        "    def __init__(self, input_size,dropout=0.1):\n",
        "        \"\"\" Initializes the attention module.\n",
        "            Feel free to declare any parameters as required. \"\"\"\n",
        "\n",
        "        super(AttentionModule, self).__init__()\n",
        "\n",
        "        # BEGIN CODE : attn.init\n",
        "\n",
        "        # ADD YOUR CODE HERE\n",
        "        self.hidden_size = input_size\n",
        "        self.attn = torch.nn.Linear(input_size * 2, input_size)\n",
        "        self.score_layer = torch.nn.Linear(input_size, 1, bias=False)\n",
        "        self.dropout = torch.nn.Dropout(dropout)\n",
        "        # END CODE\n",
        "\n",
        "    def forward(self, encoder_outputs, decoder_hidden_state):\n",
        "        \"\"\" Performs a forward pass over the module, computing attention scores for inputs.\n",
        "\n",
        "        Args:\n",
        "            encoder_outputs (torch.Tensor): Output representations from the encoder, of shape [batch_size?, src_seq_len, output_dim].\n",
        "            decoder_hidden_state (torch.Tensor): Hidden state from the decoder at current time step, of appropriate shape as per RNN unit (with optional batch dim).\n",
        "\n",
        "        Returns:\n",
        "            torch.Tensor: Attentions scores for given inputs, of shape [batch_size?, 1, src_seq_len]\n",
        "        \"\"\"\n",
        "\n",
        "        # BEGIN CODE : attn.forward\n",
        "\n",
        "        # ADD YOUR CODE HERE\n",
        "        if decoder_hidden_state.dim() == 2:  \n",
        "            decoder_hidden_state = decoder_hidden_state.unsqueeze(1)\n",
        "        elif decoder_hidden_state.dim() == 1:  \n",
        "            decoder_hidden_state = decoder_hidden_state.unsqueeze(0).unsqueeze(1)\n",
        "        elif decoder_hidden_state.dim() != 3:\n",
        "            raise ValueError(f\"Unexpected decoder_hidden_state shape: {decoder_hidden_state.shape}\")\n",
        "\n",
        "        \n",
        "        decoder_hidden_exp = decoder_hidden_state.expand(-1, encoder_outputs.size(1), -1) \n",
        "\n",
        "        concat = torch.cat((encoder_outputs, decoder_hidden_exp), dim=2) \n",
        "        score = torch.bmm(encoder_outputs, decoder_hidden_state.transpose(1, 2)).squeeze(2)\n",
        "\n",
        "        attention_weights = torch.nn.functional.softmax(score, dim=1).unsqueeze(1)  \n",
        "\n",
        "        return self.dropout(attention_weights.squeeze(1))\n",
        "        # END CODE\n",
        "\n",
        "## ==== END EVALUATION PORTION"
      ]
    },
    {
      "cell_type": "code",
      "execution_count": 33,
      "metadata": {
        "id": "8q73WPlp7S1R"
      },
      "outputs": [],
      "source": [
        "## ==== BEGIN EVALUATION PORTION\n",
        "\n",
        "class RNNEncoderDecoderLMWithAttention(torch.nn.Module):\n",
        "    \"\"\" Implements an Encoder-Decoder network, using RNN units, augmented with attention. \"\"\"\n",
        "\n",
        "    # Feel free to add additional parameters to __init__\n",
        "    def __init__(self,src_vocab_size, tgt_vocab_size, embd_dims, hidden_size, num_layers=1, dropout=0.1):\n",
        "        \"\"\" Initializes the encoder-decoder network, implemented via RNNs.\n",
        "\n",
        "        Args:\n",
        "            src_vocab_size (int): Source vocabulary size.\n",
        "            tgt_vocab_size (int): Target vocabulary size.\n",
        "            embd_dims (int): Embedding dimensions.\n",
        "            hidden_size (int): Size/Dimensions for the hidden states.\n",
        "        \"\"\"\n",
        "\n",
        "        super(RNNEncoderDecoderLMWithAttention, self).__init__()\n",
        "\n",
        "        # Dummy parameter to track the model device. Do not modify.\n",
        "        self._dummy_param = torch.nn.Parameter(torch.Tensor(0), requires_grad=False)\n",
        "\n",
        "        # BEGIN CODE : enc-dec-rnn-attn.init\n",
        "\n",
        "        # ADD YOUR CODE HERE\n",
        "        self.src_vocab_size = src_vocab_size\n",
        "        self.tgt_vocab_size = tgt_vocab_size\n",
        "        self.embd_dims = embd_dims\n",
        "        self.hidden_size = hidden_size\n",
        "        self.num_layers = num_layers\n",
        "        self.dropout_rate = dropout\n",
        "        self.pad_token = 0\n",
        "        self.bos_token = 1\n",
        "        self.eos_token = 2\n",
        "\n",
        "        self.encoder_embed = torch.nn.Embedding(src_vocab_size, embd_dims)\n",
        "        self.decoder_embed = torch.nn.Embedding(tgt_vocab_size, embd_dims)\n",
        "        self.encoder_rnn = torch.nn.GRU(\n",
        "            input_size=embd_dims,\n",
        "            hidden_size=hidden_size,\n",
        "            num_layers=num_layers,\n",
        "            dropout=dropout if num_layers > 1 else 0,\n",
        "            batch_first=True\n",
        "        )\n",
        "        self.attention = AttentionModule(hidden_size, dropout=dropout)\n",
        "        self.decoder_rnn = torch.nn.GRU(\n",
        "            input_size=embd_dims + hidden_size,\n",
        "            hidden_size=hidden_size,\n",
        "            num_layers=num_layers,\n",
        "            dropout=dropout if num_layers > 1 else 0,\n",
        "            batch_first=True\n",
        "        )\n",
        "\n",
        "        self.fc_out = torch.nn.Linear(hidden_size * 2, tgt_vocab_size)\n",
        "        self.dropout = torch.nn.Dropout(dropout)\n",
        "        # END CODE\n",
        "\n",
        "    @property\n",
        "    def device(self):\n",
        "        return self._dummy_param.device\n",
        "\n",
        "    def log_probability(self, seq_x, seq_y):\n",
        "        \"\"\" Compute the conditional log probability of seq_y given seq_x, i.e., log P(seq_y | seq_x).\n",
        "\n",
        "        Args:\n",
        "            seq_x (torch.tensor): Input sequence of tokens, of shape [src_seq_len] (no batch dim)\n",
        "            seq_y (torch.tensor): Output sequence of tokens, of shape [tgt_seq_len] (no batch dim)\n",
        "\n",
        "        Returns:\n",
        "            float: Log probability of generating sequence y, given sequence x.\n",
        "        \"\"\"\n",
        "\n",
        "        # BEGIN CODE : enc-dec-rnn-attn.probability\n",
        "\n",
        "        # ADD YOUR CODE HERE\n",
        "        embedded = self.encoder_embed(seq_x.unsqueeze(0))\n",
        "        encoder_outputs, hidden = self.encoder_rnn(embedded)\n",
        "\n",
        "        input_token = torch.tensor([[self.bos_token]], device=self.device)\n",
        "        hidden = hidden[-self.num_layers:]\n",
        "\n",
        "        prob = 0.0\n",
        "        for k in range(1, len(seq_y)):\n",
        "            embedded = self.decoder_embed(input_token)\n",
        "            attention_weights = self.attention(encoder_outputs, hidden[-1])\n",
        "            weighted = torch.bmm(attention_weights, encoder_outputs)\n",
        "            rnn_input = torch.cat((embedded, weighted), dim=2)\n",
        "            output, hidden = self.decoder_rnn(rnn_input, hidden)\n",
        "\n",
        "            prediction = self.fc_out(torch.cat((output, weighted), dim=2))\n",
        "            log_probs = torch.nn.functional.log_softmax(prediction, dim=2)\n",
        "\n",
        "            prob += log_probs[0, 0, seq_y[k].item()]\n",
        "            input_token = seq_y[k].view(1, 1)\n",
        "\n",
        "            if input_token.item() == self.eos_token:\n",
        "                break\n",
        "\n",
        "        return prob.item()\n",
        "        # END CODE\n",
        "\n",
        "    def attentions(self, seq_x, terminate_token, max_length):\n",
        "        \"\"\" Obtain attention over a sequence for decoding to the target language.\n",
        "\n",
        "        Args:\n",
        "            seq_x (torch.tensor): Tensor representing the source sequence, of shape [src_seq_len] (no batch dim)\n",
        "            terminate_token (int): Token to use as EOS, to stop generating outputs.\n",
        "            max_length (int): Maximum length to use to terminate the sampling.\n",
        "\n",
        "        Returns:\n",
        "            tuple[torch.tensor, torch.tensor]:\n",
        "                A tuple of two tensors: the attentions over individual output tokens ([tgt_seq_len, src_seq_len])\n",
        "                and the best output tokens ([tgt_seq_len]) per sequence step, based on greedy sampling.\n",
        "        \"\"\"\n",
        "\n",
        "        # BEGIN CODE : rnn-enc-dec-attn.attentions\n",
        "\n",
        "        # ADD YOUR CODE HERE\n",
        "        seq_x = seq_x.to(self.device)\n",
        "        embedded = self.encoder_embed(seq_x.unsqueeze(0))\n",
        "        encoder_outputs, hidden = self.encoder_rnn(embedded)\n",
        "        hidden = hidden[-self.num_layers:]\n",
        "        input_token = torch.tensor([[self.bos_token]], device=self.device)\n",
        "\n",
        "        attentions = []\n",
        "        output_tokens = []\n",
        "        for t in range(max_length):\n",
        "            embedded = self.decoder_embed(input_token)\n",
        "            attention_weights = self.attention(encoder_outputs, hidden[-1])\n",
        "            attention_weights = attention_weights.unsqueeze(1)\n",
        "            weighted = torch.bmm(attention_weights, encoder_outputs)\n",
        "\n",
        "            rnn_input = torch.cat((embedded, weighted), dim=2)\n",
        "\n",
        "            output, hidden = self.decoder_rnn(rnn_input, hidden)\n",
        "            prediction = self.fc_out(torch.cat((output, weighted), dim=2))\n",
        "            output_token = prediction.argmax(2)\n",
        "\n",
        "            attentions.append(attention_weights.squeeze(0).squeeze(0))\n",
        "            output_tokens.append(output_token.item())\n",
        "\n",
        "            input_token = output_token\n",
        "\n",
        "            if output_token.item() == terminate_token:\n",
        "                break\n",
        "\n",
        "        return (torch.stack(attentions).detach().cpu(), torch.tensor(output_tokens).detach().cpu())\n",
        "        # END CODE\n",
        "\n",
        "    def forward(self, inputs, decoder_inputs=None, decoder_hidden_state=None, output_attention=False):\n",
        "        \"\"\" Performs a forward pass over the encoder-decoder network.\n",
        "\n",
        "            Accepts inputs for the encoder, inputs for the decoder, and hidden state for\n",
        "                the decoder to continue generation after the given input.\n",
        "\n",
        "        Args:\n",
        "            inputs (torch.Tensor): tensor of shape [batch_size?, src_seq_len]\n",
        "            decoder_inputs (torch.Tensor): Decoder inputs, as tensor of shape [batch_size?, 1]\n",
        "            decoder_hidden_state (any): tensor to represent decoder hidden state from time step T-1.\n",
        "            output_attention (bool): If true, this function should also return the\n",
        "                associated attention weights for the time step, of shape [batch_size?, 1, src_seq_len].\n",
        "\n",
        "        Returns:\n",
        "            tuple[torch.Tensor, any]: output from the decoder, and associated hidden state for the next step.\n",
        "\n",
        "            Decoder outputs should be log probabilities over the target vocabulary.\n",
        "\n",
        "        Example:\n",
        "        >>> model = RNNEncoderDecoderWithAttention(*args, **kwargs)\n",
        "        >>> output, hidden = model(..., output_attention=False)\n",
        "        >>> output, hidden, attn_weights = model(..., output_attention=True)\n",
        "        \"\"\"\n",
        "\n",
        "        # BEGIN CODE : enc-dec-rnn-attn.forward\n",
        "\n",
        "        # ADD YOUR CODE HERE\n",
        "        embedded = self.dropout(self.encoder_embed(inputs))\n",
        "        encoder_outputs, hidden = self.encoder_rnn(embedded)\n",
        "\n",
        "        if decoder_inputs is None:\n",
        "            raise ValueError(\"decoder inputs must be provided during training.\")\n",
        "\n",
        "        batch_size = inputs.size(0)\n",
        "        max_length = decoder_inputs.size(1)\n",
        "\n",
        "        outputs = []\n",
        "        decoder_hidden = hidden[-self.num_layers:]\n",
        "\n",
        "        for t in range(max_length):\n",
        "            input_token = decoder_inputs[:, t].unsqueeze(1)  \n",
        "            embedded = self.dropout(self.decoder_embed(input_token)) \n",
        "\n",
        "            decoder_hidden_last = decoder_hidden[-1]  \n",
        "            attention_weights = self.attention(encoder_outputs, decoder_hidden_last) \n",
        "            attention_weights = attention_weights.unsqueeze(1)  \n",
        "            context = torch.bmm(attention_weights, encoder_outputs)  \n",
        "\n",
        "\n",
        "            rnn_input = torch.cat((embedded, context), dim=2)  \n",
        "            output, decoder_hidden = self.decoder_rnn(rnn_input, decoder_hidden)  \n",
        "\n",
        "            output = torch.cat((output, context), dim=2)  \n",
        "            output = self.fc_out(output)\n",
        "            outputs.append(output)\n",
        "\n",
        "        outputs = torch.cat(outputs, dim=1) \n",
        "        return outputs, decoder_hidden\n",
        "        # END CODE\n",
        "\n",
        "## ==== END EVALUATION PORTION"
      ]
    },
    {
      "cell_type": "code",
      "execution_count": 34,
      "metadata": {
        "id": "cuLUZV167S1S"
      },
      "outputs": [],
      "source": [
        "## == BEGIN EVALUATION PORTION\n",
        "\n",
        "# Edit the hyperparameters below to your desired values.\n",
        "\n",
        "# BEGIN CODE : rnn-enc-dec-attn.params\n",
        "\n",
        "# Add parameters related to the model here.\n",
        "rnn_enc_dec_attn_params = {\n",
        "    'src_vocab_size': len(src_tokenizer.get_vocabulary()),\n",
        "    'tgt_vocab_size': len(tgt_tokenizer.get_vocabulary()),\n",
        "    'embd_dims'     : 256,\n",
        "    'hidden_size'   : 512,\n",
        "    'dropout'       : 0.3,\n",
        "    'num_layers'    : 2\n",
        "}\n",
        "\n",
        "# Add parameters related to the dataset processing here.\n",
        "rnn_enc_dec_attn_data_params = dict(\n",
        "    src_padding=max(len(tokens) for tokens in src_tokenizer.batch_encode(train_data['Name'])),\n",
        "    tgt_padding=max(len(tokens) for tokens in tgt_tokenizer.batch_encode(train_data['Translation'])),\n",
        ")\n",
        "\n",
        "# Add parameters related to training here.\n",
        "rnn_enc_dec_attn_training_params = dict(\n",
        "    num_epochs=12,\n",
        "    batch_size=32,\n",
        "    shuffle=True,\n",
        "    save_steps=150,\n",
        "    eval_steps=100\n",
        ")\n",
        "\n",
        "# END CODE\n",
        "\n",
        "# Do not forget to set a deterministic seed.\n",
        "torch.manual_seed(42)\n",
        "\n",
        "model = RNNEncoderDecoderLMWithAttention(**rnn_enc_dec_attn_params)\n",
        "\n",
        "# BEGIN CODE : rnn-enc-dec-attn.train\n",
        "\n",
        "# ADD YOUR CODE HERE\n",
        "optimizer = torch.optim.AdamW(model.parameters(), lr=0.001)\n",
        "criterion = torch.nn.CrossEntropyLoss(ignore_index=tgt_tokenizer.get_special_tokens()['[PAD]'],label_smoothing=0.08)\n",
        "\n",
        "# END CODE\n",
        "\n",
        "trainer = RNNEncoderDecoderTrainer(\n",
        "    os.path.join(DIRECTORY_NAME, \"rnn.enc-dec.attn\"),\n",
        "    model, criterion, optimizer\n",
        ")\n",
        "\n",
        "## == END EVALUATION PORTION"
      ]
    },
    {
      "cell_type": "code",
      "execution_count": 35,
      "metadata": {
        "id": "H_oypGhq7S1S"
      },
      "outputs": [
        {
          "name": "stderr",
          "output_type": "stream",
          "text": [
            "Epoch 1 / 12:   6%|▌         | 101/1692 [00:19<06:30,  4.07it/s, batch=101, loss=3.56]"
          ]
        },
        {
          "name": "stdout",
          "output_type": "stream",
          "text": [
            "[>] epoch # 1, batch #100: loss: 3.54852414 | val_loss: 3.28478264\n"
          ]
        },
        {
          "name": "stderr",
          "output_type": "stream",
          "text": [
            "Epoch 2 / 12:  12%|█▏        | 202/1692 [00:37<05:07,  4.84it/s, batch=61, loss=2.56] "
          ]
        },
        {
          "name": "stdout",
          "output_type": "stream",
          "text": [
            "[>] epoch # 2, batch # 59: loss: 2.75086164 | val_loss: 2.49446270\n"
          ]
        },
        {
          "name": "stderr",
          "output_type": "stream",
          "text": [
            "Epoch 3 / 12:  18%|█▊        | 300/1692 [00:54<03:39,  6.35it/s, batch=18, loss=1.98] "
          ]
        },
        {
          "name": "stdout",
          "output_type": "stream",
          "text": [
            "[>] epoch # 3, batch # 18: loss: 1.97910655 | val_loss: 2.09843897\n"
          ]
        },
        {
          "name": "stderr",
          "output_type": "stream",
          "text": [
            "Epoch 3 / 12:  24%|██▎       | 401/1692 [01:12<04:43,  4.55it/s, batch=119, loss=1.74]"
          ]
        },
        {
          "name": "stdout",
          "output_type": "stream",
          "text": [
            "[>] epoch # 3, batch #118: loss: 1.84591329 | val_loss: 1.81428248\n"
          ]
        },
        {
          "name": "stderr",
          "output_type": "stream",
          "text": [
            "Epoch 4 / 12:  30%|██▉       | 502/1692 [01:29<03:40,  5.39it/s, batch=79, loss=1.6]  "
          ]
        },
        {
          "name": "stdout",
          "output_type": "stream",
          "text": [
            "[>] epoch # 4, batch # 77: loss: 1.54387832 | val_loss: 1.64432836\n"
          ]
        },
        {
          "name": "stderr",
          "output_type": "stream",
          "text": [
            "Epoch 5 / 12:  35%|███▌      | 600/1692 [01:46<03:18,  5.49it/s, batch=36, loss=1.36] "
          ]
        },
        {
          "name": "stdout",
          "output_type": "stream",
          "text": [
            "[>] epoch # 5, batch # 36: loss: 1.35698867 | val_loss: 1.58684860\n"
          ]
        },
        {
          "name": "stderr",
          "output_type": "stream",
          "text": [
            "Epoch 5 / 12:  41%|████▏     | 702/1692 [02:04<03:17,  5.01it/s, batch=138, loss=1.44]"
          ]
        },
        {
          "name": "stdout",
          "output_type": "stream",
          "text": [
            "[>] epoch # 5, batch #136: loss: 1.39574957 | val_loss: 1.55215045\n"
          ]
        },
        {
          "name": "stderr",
          "output_type": "stream",
          "text": [
            "Epoch 6 / 12:  47%|████▋     | 802/1692 [02:22<02:57,  5.00it/s, batch=97, loss=1.41] "
          ]
        },
        {
          "name": "stdout",
          "output_type": "stream",
          "text": [
            "[>] epoch # 6, batch # 95: loss: 1.24387097 | val_loss: 1.49842830\n"
          ]
        },
        {
          "name": "stderr",
          "output_type": "stream",
          "text": [
            "Epoch 7 / 12:  53%|█████▎    | 900/1692 [02:39<02:14,  5.87it/s, batch=54, loss=1.18] "
          ]
        },
        {
          "name": "stdout",
          "output_type": "stream",
          "text": [
            "[>] epoch # 7, batch # 54: loss: 1.18230724 | val_loss: 1.50950161\n"
          ]
        },
        {
          "name": "stderr",
          "output_type": "stream",
          "text": [
            "Epoch 8 / 12:  59%|█████▉    | 1002/1692 [02:58<02:06,  5.44it/s, batch=15, loss=1.05]"
          ]
        },
        {
          "name": "stdout",
          "output_type": "stream",
          "text": [
            "[>] epoch # 8, batch # 13: loss: 1.01143491 | val_loss: 1.51589704\n"
          ]
        },
        {
          "name": "stderr",
          "output_type": "stream",
          "text": [
            "Epoch 8 / 12:  65%|██████▌   | 1101/1692 [03:16<02:12,  4.47it/s, batch=114, loss=1.09]"
          ]
        },
        {
          "name": "stdout",
          "output_type": "stream",
          "text": [
            "[>] epoch # 8, batch #113: loss: 1.05547261 | val_loss: 1.48957531\n"
          ]
        },
        {
          "name": "stderr",
          "output_type": "stream",
          "text": [
            "Epoch 9 / 12:  71%|███████   | 1200/1692 [03:31<01:11,  6.86it/s, batch=72, loss=1.1]  "
          ]
        },
        {
          "name": "stdout",
          "output_type": "stream",
          "text": [
            "[>] epoch # 9, batch # 72: loss: 1.09606767 | val_loss: 1.49342823\n"
          ]
        },
        {
          "name": "stderr",
          "output_type": "stream",
          "text": [
            "Epoch 10 / 12:  77%|███████▋  | 1302/1692 [03:49<01:21,  4.78it/s, batch=33, loss=0.992]"
          ]
        },
        {
          "name": "stdout",
          "output_type": "stream",
          "text": [
            "[>] epoch #10, batch # 31: loss: 0.96763313 | val_loss: 1.47643763\n"
          ]
        },
        {
          "name": "stderr",
          "output_type": "stream",
          "text": [
            "Epoch 10 / 12:  83%|████████▎ | 1401/1692 [04:07<01:05,  4.44it/s, batch=132, loss=1.14] "
          ]
        },
        {
          "name": "stdout",
          "output_type": "stream",
          "text": [
            "[>] epoch #10, batch #131: loss: 0.98610598 | val_loss: 1.48962376\n"
          ]
        },
        {
          "name": "stderr",
          "output_type": "stream",
          "text": [
            "Epoch 11 / 12:  89%|████████▊ | 1500/1692 [04:24<00:34,  5.65it/s, batch=90, loss=1.14]  "
          ]
        },
        {
          "name": "stdout",
          "output_type": "stream",
          "text": [
            "[>] epoch #11, batch # 90: loss: 1.13653886 | val_loss: 1.51015085\n"
          ]
        },
        {
          "name": "stderr",
          "output_type": "stream",
          "text": [
            "Epoch 12 / 12:  95%|█████████▍| 1601/1692 [04:43<00:23,  3.91it/s, batch=50, loss=0.976] "
          ]
        },
        {
          "name": "stdout",
          "output_type": "stream",
          "text": [
            "[>] epoch #12, batch # 49: loss: 0.96157038 | val_loss: 1.48811412\n"
          ]
        },
        {
          "name": "stderr",
          "output_type": "stream",
          "text": [
            "Epoch 12 / 12: 100%|██████████| 1692/1692 [05:01<00:00,  5.61it/s, batch=141, loss=0.942]\n"
          ]
        }
      ],
      "source": [
        "# Please do not change anything in the following cell.\n",
        "\n",
        "train_dataset      = TokenizerDataset(train_data     , src_tokenizer, tgt_tokenizer, **rnn_enc_dec_attn_data_params)\n",
        "validation_dataset = TokenizerDataset(validation_data, src_tokenizer, tgt_tokenizer, **rnn_enc_dec_attn_data_params)\n",
        "\n",
        "rnn_enc_dec_attn_train_data = dict(\n",
        "    train_dataset=train_dataset,\n",
        "    validation_dataset=validation_dataset,\n",
        "    collate_fn=train_dataset.collate\n",
        ")\n",
        "\n",
        "# Resume training from the last checkpoint, if interrupted midway, otherwise starts from scratch.\n",
        "trainer.resume()\n",
        "\n",
        "# Train as per specified training parameters.\n",
        "trainer.train(**rnn_enc_dec_attn_train_data, **rnn_enc_dec_attn_training_params)"
      ]
    },
    {
      "cell_type": "code",
      "execution_count": 36,
      "metadata": {
        "id": "bAYwB5i47S1T"
      },
      "outputs": [],
      "source": [
        "# Please do not change anything in the following cell.\n",
        "\n",
        "# Save the final model, with additional metadata.\n",
        "trainer.save(metadata={\n",
        "    'model'   : rnn_enc_dec_attn_params,\n",
        "    'data'    : rnn_enc_dec_attn_data_params,\n",
        "    'training': rnn_enc_dec_attn_training_params\n",
        "})"
      ]
    },
    {
      "cell_type": "markdown",
      "metadata": {
        "id": "0qIb8Qkg7S1T"
      },
      "source": [
        "We can validate the model using a few simple tests as below:"
      ]
    },
    {
      "cell_type": "code",
      "execution_count": 37,
      "metadata": {
        "id": "f1RKp9rM7S1T"
      },
      "outputs": [
        {
          "name": "stdout",
          "output_type": "stream",
          "text": [
            "Name                      : वरिषा\n",
            "Translation (Expected)    : varisha\n",
            "Translation (Model)       : varisha\n",
            "\n",
            "Name                      : उजामा\n",
            "Translation (Expected)    : ujama\n",
            "Translation (Model)       : ujama\n",
            "\n",
            "Name                      : बिपिन\n",
            "Translation (Expected)    : bipin\n",
            "Translation (Model)       : bipin\n",
            "\n",
            "Name                      : मित्ठू\n",
            "Translation (Expected)    : mitthu\n",
            "Translation (Model)       : mitthu\n",
            "\n",
            "Name                      : रामैया\n",
            "Translation (Expected)    : ramaiya\n",
            "Translation (Model)       : ramaiya\n",
            "\n"
          ]
        }
      ],
      "source": [
        "# Please do not change anything in the following cell.\n",
        "\n",
        "for _, row in train_data.sample(n=5, random_state=42).iterrows():\n",
        "    y_pred = rnn_greedy_generate(\n",
        "        model, row['Name'], src_tokenizer, tgt_tokenizer,\n",
        "        max_length = rnn_enc_dec_attn_data_params['tgt_padding']\n",
        "    )\n",
        "\n",
        "    print(\"Name                      :\", row['Name'])\n",
        "    print(\"Translation (Expected)    :\", row['Translation'])\n",
        "    print(\"Translation (Model)       :\", y_pred)\n",
        "\n",
        "    print()"
      ]
    },
    {
      "cell_type": "code",
      "execution_count": 38,
      "metadata": {
        "id": "rt6MLKYX7S1U"
      },
      "outputs": [
        {
          "name": "stdout",
          "output_type": "stream",
          "text": [
            "Name                      : दीन\n",
            "Translation (Expected)    : deen\n",
            "Translation (Model)       : deen\n",
            "\n",
            "Name                      : मुर्शिदा\n",
            "Translation (Expected)    : murshida\n",
            "Translation (Model)       : mursida\n",
            "\n",
            "Name                      : शबरा\n",
            "Translation (Expected)    : shabra\n",
            "Translation (Model)       : shabra\n",
            "\n",
            "Name                      : श्रीकांत\n",
            "Translation (Expected)    : shrikant\n",
            "Translation (Model)       : srikant\n",
            "\n",
            "Name                      : कौशल\n",
            "Translation (Expected)    : kaushal\n",
            "Translation (Model)       : kaushal\n",
            "\n"
          ]
        }
      ],
      "source": [
        "# Please do not change anything in the following cell.\n",
        "\n",
        "for _, row in validation_data.sample(n=5, random_state=42).iterrows():\n",
        "    y_pred = rnn_greedy_generate(\n",
        "        model, row['Name'], src_tokenizer, tgt_tokenizer,\n",
        "        max_length = rnn_enc_dec_attn_data_params['tgt_padding']\n",
        "    )\n",
        "\n",
        "    print(\"Name                      :\", row['Name'])\n",
        "    print(\"Translation (Expected)    :\", row['Translation'])\n",
        "    print(\"Translation (Model)       :\", y_pred)\n",
        "\n",
        "    print()"
      ]
    },
    {
      "cell_type": "markdown",
      "metadata": {
        "id": "i8BHmGBR7S1U"
      },
      "source": [
        "It may also be useful to look at attention maps for different examples:"
      ]
    },
    {
      "cell_type": "code",
      "execution_count": 39,
      "metadata": {
        "id": "1KM7dAFi7S1U"
      },
      "outputs": [],
      "source": [
        "# Please do not change anything in the following cell.\n",
        "\n",
        "def visualize_attention(src_glyphs, tgt_glyphs, attention, axes):\n",
        "    axes.matshow(attention.numpy(), cmap='bone')\n",
        "\n",
        "    axes.set_xticks(numpy.arange(len(src_glyphs)), labels=src_glyphs)\n",
        "    axes.set_yticks(numpy.arange(len(tgt_glyphs)), labels=tgt_glyphs)"
      ]
    },
    {
      "cell_type": "code",
      "execution_count": 40,
      "metadata": {
        "id": "OixmEkuF7S1V"
      },
      "outputs": [
        {
          "name": "stderr",
          "output_type": "stream",
          "text": [
            "/data1/home/drahul/.local/lib/python3.8/site-packages/IPython/core/events.py:89: UserWarning: Glyph 108 (l) missing from current font.\n",
            "  func(*args, **kwargs)\n",
            "/data1/home/drahul/.local/lib/python3.8/site-packages/IPython/core/events.py:89: UserWarning: Glyph 112 (p) missing from current font.\n",
            "  func(*args, **kwargs)\n",
            "/data1/home/drahul/.local/lib/python3.8/site-packages/IPython/core/events.py:89: UserWarning: Glyph 91 ([) missing from current font.\n",
            "  func(*args, **kwargs)\n",
            "/data1/home/drahul/.local/lib/python3.8/site-packages/IPython/core/events.py:89: UserWarning: Glyph 66 (B) missing from current font.\n",
            "  func(*args, **kwargs)\n",
            "/data1/home/drahul/.local/lib/python3.8/site-packages/IPython/core/events.py:89: UserWarning: Glyph 79 (O) missing from current font.\n",
            "  func(*args, **kwargs)\n",
            "/data1/home/drahul/.local/lib/python3.8/site-packages/IPython/core/events.py:89: UserWarning: Glyph 83 (S) missing from current font.\n",
            "  func(*args, **kwargs)\n",
            "/data1/home/drahul/.local/lib/python3.8/site-packages/IPython/core/events.py:89: UserWarning: Glyph 93 (]) missing from current font.\n",
            "  func(*args, **kwargs)\n",
            "/data1/home/drahul/.local/lib/python3.8/site-packages/IPython/core/events.py:89: UserWarning: Glyph 65533 (\\N{REPLACEMENT CHARACTER}) missing from current font.\n",
            "  func(*args, **kwargs)\n",
            "/data1/home/drahul/.local/lib/python3.8/site-packages/IPython/core/events.py:89: UserWarning: Glyph 69 (E) missing from current font.\n",
            "  func(*args, **kwargs)\n",
            "/data1/home/drahul/.local/lib/python3.8/site-packages/IPython/core/events.py:89: UserWarning: Glyph 118 (v) missing from current font.\n",
            "  func(*args, **kwargs)\n",
            "/data1/home/drahul/.local/lib/python3.8/site-packages/IPython/core/events.py:89: UserWarning: Glyph 97 (a) missing from current font.\n",
            "  func(*args, **kwargs)\n",
            "/data1/home/drahul/.local/lib/python3.8/site-packages/IPython/core/events.py:89: UserWarning: Glyph 114 (r) missing from current font.\n",
            "  func(*args, **kwargs)\n",
            "/data1/home/drahul/.local/lib/python3.8/site-packages/IPython/core/events.py:89: UserWarning: Glyph 105 (i) missing from current font.\n",
            "  func(*args, **kwargs)\n",
            "/data1/home/drahul/.local/lib/python3.8/site-packages/IPython/core/events.py:89: UserWarning: Glyph 115 (s) missing from current font.\n",
            "  func(*args, **kwargs)\n",
            "/data1/home/drahul/.local/lib/python3.8/site-packages/IPython/core/events.py:89: UserWarning: Glyph 104 (h) missing from current font.\n",
            "  func(*args, **kwargs)\n",
            "/data1/home/drahul/.local/lib/python3.8/site-packages/IPython/core/events.py:89: UserWarning: Glyph 117 (u) missing from current font.\n",
            "  func(*args, **kwargs)\n",
            "/data1/home/drahul/.local/lib/python3.8/site-packages/IPython/core/events.py:89: UserWarning: Glyph 106 (j) missing from current font.\n",
            "  func(*args, **kwargs)\n",
            "/data1/home/drahul/.local/lib/python3.8/site-packages/IPython/core/events.py:89: UserWarning: Glyph 109 (m) missing from current font.\n",
            "  func(*args, **kwargs)\n",
            "/data1/home/drahul/.local/lib/python3.8/site-packages/IPython/core/events.py:89: UserWarning: Glyph 98 (b) missing from current font.\n",
            "  func(*args, **kwargs)\n",
            "/data1/home/drahul/.local/lib/python3.8/site-packages/IPython/core/events.py:89: UserWarning: Glyph 110 (n) missing from current font.\n",
            "  func(*args, **kwargs)\n",
            "/data1/home/drahul/.local/lib/python3.8/site-packages/IPython/core/events.py:89: UserWarning: Glyph 116 (t) missing from current font.\n",
            "  func(*args, **kwargs)\n",
            "/data1/home/drahul/.local/lib/python3.8/site-packages/IPython/core/pylabtools.py:152: UserWarning: Glyph 108 (l) missing from current font.\n",
            "  fig.canvas.print_figure(bytes_io, **kw)\n",
            "/data1/home/drahul/.local/lib/python3.8/site-packages/IPython/core/pylabtools.py:152: UserWarning: Glyph 112 (p) missing from current font.\n",
            "  fig.canvas.print_figure(bytes_io, **kw)\n",
            "/data1/home/drahul/.local/lib/python3.8/site-packages/IPython/core/pylabtools.py:152: UserWarning: Glyph 91 ([) missing from current font.\n",
            "  fig.canvas.print_figure(bytes_io, **kw)\n",
            "/data1/home/drahul/.local/lib/python3.8/site-packages/IPython/core/pylabtools.py:152: UserWarning: Glyph 66 (B) missing from current font.\n",
            "  fig.canvas.print_figure(bytes_io, **kw)\n",
            "/data1/home/drahul/.local/lib/python3.8/site-packages/IPython/core/pylabtools.py:152: UserWarning: Glyph 79 (O) missing from current font.\n",
            "  fig.canvas.print_figure(bytes_io, **kw)\n",
            "/data1/home/drahul/.local/lib/python3.8/site-packages/IPython/core/pylabtools.py:152: UserWarning: Glyph 83 (S) missing from current font.\n",
            "  fig.canvas.print_figure(bytes_io, **kw)\n",
            "/data1/home/drahul/.local/lib/python3.8/site-packages/IPython/core/pylabtools.py:152: UserWarning: Glyph 93 (]) missing from current font.\n",
            "  fig.canvas.print_figure(bytes_io, **kw)\n",
            "/data1/home/drahul/.local/lib/python3.8/site-packages/IPython/core/pylabtools.py:152: UserWarning: Glyph 65533 (\\N{REPLACEMENT CHARACTER}) missing from current font.\n",
            "  fig.canvas.print_figure(bytes_io, **kw)\n",
            "/data1/home/drahul/.local/lib/python3.8/site-packages/IPython/core/pylabtools.py:152: UserWarning: Glyph 69 (E) missing from current font.\n",
            "  fig.canvas.print_figure(bytes_io, **kw)\n",
            "/data1/home/drahul/.local/lib/python3.8/site-packages/IPython/core/pylabtools.py:152: UserWarning: Glyph 118 (v) missing from current font.\n",
            "  fig.canvas.print_figure(bytes_io, **kw)\n",
            "/data1/home/drahul/.local/lib/python3.8/site-packages/IPython/core/pylabtools.py:152: UserWarning: Glyph 97 (a) missing from current font.\n",
            "  fig.canvas.print_figure(bytes_io, **kw)\n",
            "/data1/home/drahul/.local/lib/python3.8/site-packages/IPython/core/pylabtools.py:152: UserWarning: Glyph 114 (r) missing from current font.\n",
            "  fig.canvas.print_figure(bytes_io, **kw)\n",
            "/data1/home/drahul/.local/lib/python3.8/site-packages/IPython/core/pylabtools.py:152: UserWarning: Glyph 105 (i) missing from current font.\n",
            "  fig.canvas.print_figure(bytes_io, **kw)\n",
            "/data1/home/drahul/.local/lib/python3.8/site-packages/IPython/core/pylabtools.py:152: UserWarning: Glyph 115 (s) missing from current font.\n",
            "  fig.canvas.print_figure(bytes_io, **kw)\n",
            "/data1/home/drahul/.local/lib/python3.8/site-packages/IPython/core/pylabtools.py:152: UserWarning: Glyph 104 (h) missing from current font.\n",
            "  fig.canvas.print_figure(bytes_io, **kw)\n",
            "/data1/home/drahul/.local/lib/python3.8/site-packages/IPython/core/pylabtools.py:152: UserWarning: Glyph 117 (u) missing from current font.\n",
            "  fig.canvas.print_figure(bytes_io, **kw)\n",
            "/data1/home/drahul/.local/lib/python3.8/site-packages/IPython/core/pylabtools.py:152: UserWarning: Glyph 106 (j) missing from current font.\n",
            "  fig.canvas.print_figure(bytes_io, **kw)\n",
            "/data1/home/drahul/.local/lib/python3.8/site-packages/IPython/core/pylabtools.py:152: UserWarning: Glyph 109 (m) missing from current font.\n",
            "  fig.canvas.print_figure(bytes_io, **kw)\n",
            "/data1/home/drahul/.local/lib/python3.8/site-packages/IPython/core/pylabtools.py:152: UserWarning: Glyph 98 (b) missing from current font.\n",
            "  fig.canvas.print_figure(bytes_io, **kw)\n",
            "/data1/home/drahul/.local/lib/python3.8/site-packages/IPython/core/pylabtools.py:152: UserWarning: Glyph 110 (n) missing from current font.\n",
            "  fig.canvas.print_figure(bytes_io, **kw)\n",
            "/data1/home/drahul/.local/lib/python3.8/site-packages/IPython/core/pylabtools.py:152: UserWarning: Glyph 116 (t) missing from current font.\n",
            "  fig.canvas.print_figure(bytes_io, **kw)\n"
          ]
        },
        {
          "data": {
            "image/png": "[encoded data removed]",
            "text/plain": [
              "<Figure size 1200x1000 with 4 Axes>"
            ]
          },
          "metadata": {},
          "output_type": "display_data"
        }
      ],
      "source": [
        "# Please do not change anything in the following cell.\n",
        "\n",
        "pyplot.figure(figsize=(12, 10))\n",
        "\n",
        "src_id_to_token = inverse_vocabulary(src_tokenizer)\n",
        "tgt_id_to_token = inverse_vocabulary(tgt_tokenizer)\n",
        "\n",
        "with torch.no_grad():\n",
        "    for i, row in train_data.sample(n=4, random_state=42, ignore_index=True).iterrows():\n",
        "        src_tokens = torch.tensor(src_tokenizer.encode(row['Name']))\n",
        "        attentions, tgt_tokens = model.attentions(src_tokens, tgt_tokenizer.get_special_tokens()['[EOS]'], max_length=50)\n",
        "        src_glyphs = apply_inverse_vocab(src_tokens.tolist(), src_id_to_token)\n",
        "        tgt_glyphs = apply_inverse_vocab(tgt_tokens.tolist(), tgt_id_to_token)\n",
        "        axes = pyplot.subplot(2, 2, i+1)\n",
        "        visualize_attention(src_glyphs, tgt_glyphs, attentions, axes)"
      ]
    },
    {
      "cell_type": "code",
      "execution_count": 41,
      "metadata": {
        "id": "qE1PU0k9s8Ds"
      },
      "outputs": [],
      "source": [
        "# Please do not change anything in the following cell.\n",
        "\n",
        "output_data = []\n",
        "for _, row in validation_data.iterrows():\n",
        "    y_pred = rnn_greedy_generate(\n",
        "        model, row['Name'], src_tokenizer, tgt_tokenizer,\n",
        "        max_length = rnn_enc_dec_attn_data_params['tgt_padding']\n",
        "    )\n",
        "    output_data.append({ 'Name': row['Name'], 'Translation': y_pred })\n",
        "\n",
        "pd.DataFrame.from_records(output_data).to_csv(\n",
        "    os.path.join(DIRECTORY_NAME, \"rnn.enc-dec.attn\", \"outputs.csv\"), index=False\n",
        ")"
      ]
    },
    {
      "cell_type": "code",
      "execution_count": 42,
      "metadata": {
        "id": "aQ7Qndm47S1V"
      },
      "outputs": [],
      "source": [
        "# Please do not change anything in the following cell.\n",
        "\n",
        "# Release resources\n",
        "if 'trainer' in globals():\n",
        "    del trainer\n",
        "\n",
        "if 'model' in globals():\n",
        "    del model\n",
        "\n",
        "sync_vram()"
      ]
    },
    {
      "cell_type": "markdown",
      "metadata": {
        "id": "998loM887S1W"
      },
      "source": [
        "## Evaluation"
      ]
    },
    {
      "cell_type": "markdown",
      "metadata": {
        "id": "_tm4zQ637S1W"
      },
      "source": [
        "In the last few modules, you have implemented different approaches towards transliteration of Indian names to English. To assess how well different systems perform, it is useful to compute different metrics, which assess different properties:\n",
        "\n",
        "- **Accuracy**: From a parallel corpus, number of translations the model got exactly right. Higher the better. Note that this makes sense only for this task. and lacks granularity.\n",
        "- **Edit Distance**: Number of edits at the character level (insertions, deletions, substitutions) required to transform your model's outputs to a reference translation. Lower the better.\n",
        "- **Character Error Rate (CER)**: The rate at which your system/model makes mistakes at the character level. Lower the better.\n",
        "- **Token Error Rate (TER)**: The rate at which your system/model makes mistakes at the token level. Lower the better. Depending on your tokenizer implementation, could be the same as CER.\n",
        "- **BiLingual Evaluation Understudy (BLEU)**: Proposed by [Papineni et al., 2002](https://aclanthology.org/P02-1040/), BLEU is a metric that assess the quality of a translation against reference translations through assessing n-gram overlap. Higher the better.\n",
        "\n",
        "Since accents and half-letters exist as separate characters in the Unicode specification, and can change the interpretation of the output, metrics that operate at the character level will treat these separately."
      ]
    },
    {
      "cell_type": "code",
      "execution_count": 43,
      "metadata": {
        "id": "4V2mXdKh7S1W"
      },
      "outputs": [],
      "source": [
        "# Please do not change anything in the following cell.\n",
        "\n",
        "class Evaluator:\n",
        "    \"\"\" Class to handle all the logic concerning the evaluation of trained models.  \"\"\"\n",
        "\n",
        "    def __init__(self, src_tokenizer, tgt_tokenizer) -> None:\n",
        "        \"\"\" Initializes the evaluator.\n",
        "\n",
        "        Args:\n",
        "            src_tokenizer (Tokenizer): Tokenizer for input strings in the source language.\n",
        "            tgt_tokenizer (Tokenizer): Tokenizer for output strings in the target language.\n",
        "        \"\"\"\n",
        "\n",
        "        self.device = 'cuda' if torch.cuda.is_available() else 'cpu'\n",
        "        self.src_tokenizer = src_tokenizer\n",
        "        self.tgt_tokenizer = tgt_tokenizer\n",
        "        self.decoding_method = None\n",
        "\n",
        "    def set_decoding_method(self, decoding_method):\n",
        "        \"\"\" Sets the decoding method to use with models.\n",
        "                The evaluation function will use the set decoding method to generate outputs from the model.\n",
        "\n",
        "        Args:\n",
        "            decoding_method (function): Decoding method.\n",
        "                Must accept the model instance, the input string, and tokenizers as arguments.\n",
        "                Can accept additional arguments if required.\n",
        "        \"\"\"\n",
        "\n",
        "        self.decoding_method = decoding_method\n",
        "\n",
        "    @staticmethod\n",
        "    def decompose(string):\n",
        "        \"\"\" Decomposes a string into a set of tokens.\n",
        "\n",
        "        Args:\n",
        "            string (str): String to decompose.\n",
        "\n",
        "        Returns:\n",
        "            list[str]: List of characters from the string.\n",
        "        \"\"\"\n",
        "        return unicodedata.normalize('NFKD', string).encode('utf-8')\n",
        "\n",
        "    @staticmethod\n",
        "    def levenshtein_distance(string1, string2):\n",
        "        \"\"\" Computes the levensthein distance between two strings.\n",
        "\n",
        "        Args:\n",
        "            string1 (list[any]): Sequence A.\n",
        "            string2 (list[any]): Sequence B.\n",
        "\n",
        "        Returns:\n",
        "            tuple[int, int, int]: Number of insertions + deletions, substitutions and no-ops.\n",
        "        \"\"\"\n",
        "\n",
        "        costs = [\n",
        "            [ 0 for j in range(len(string2)+1) ]\n",
        "            for i in range(len(string1)+1)\n",
        "        ]\n",
        "\n",
        "        # Prepare matrix of costs.\n",
        "        for i in range(len(string1)+1): costs[i][0] = i\n",
        "        for j in range(len(string2)+1): costs[0][j] = j\n",
        "        for i in range(1, len(string1)+1):\n",
        "            for j in range(1, len(string2)+1):\n",
        "                costs[i][j] = min(\n",
        "                    costs[i][j-1] + 1,\n",
        "                    costs[i-1][j] + 1,\n",
        "                    costs[i-1][j-1] + (0 if string1[i-1] == string2[j-1] else 1)\n",
        "                )\n",
        "\n",
        "        # Decode matrix in backward manner for actual operation counts.\n",
        "        c_ins_del, c_sub, c_noop = 0, 0, 0\n",
        "\n",
        "        i, j = len(string1), len(string2)\n",
        "        while i > 0 or j > 0:\n",
        "            if i > 0 and costs[i][j] == costs[i-1][j] + 1:\n",
        "                c_ins_del += 1\n",
        "                i -= 1\n",
        "            elif j > 0 and costs[i][j] == costs[i][j-1] + 1:\n",
        "                c_ins_del += 1\n",
        "                j -= 1\n",
        "            elif i > 0 and j > 0:\n",
        "                if string1[i-1] == string2[j-1]:\n",
        "                    c_noop += 1\n",
        "                else:\n",
        "                    c_sub += 1\n",
        "                i, j = i-1, j-1\n",
        "            else:\n",
        "                break\n",
        "\n",
        "        return c_ins_del, c_sub, c_noop\n",
        "\n",
        "    @staticmethod\n",
        "    def accuracy(y_true, y_pred):\n",
        "        \"\"\" Computes the accuracy of the predictions, against a reference set of predictions.\n",
        "\n",
        "        Args:\n",
        "            y_true (list[str]): Actual translations.\n",
        "            y_pred (list[str]): Generated translations.\n",
        "\n",
        "        Returns:\n",
        "            float: Accuracy score, between 0 and 1.\n",
        "        \"\"\"\n",
        "        return sum(yi_true == yi_pred for yi_true, yi_pred in zip(y_true, y_pred)) / len(y_pred)\n",
        "\n",
        "    @classmethod\n",
        "    def char_error_rate(cls, y_true, y_pred):\n",
        "        \"\"\" Computes the character level error rate (CER) of the set of\n",
        "            predictions against the reference translations.\n",
        "\n",
        "        Args:\n",
        "            y_true (list[str]): Actual translations.\n",
        "            y_pred (list[str]): Generated translations.\n",
        "\n",
        "        Returns:\n",
        "            float: CER score, between 0 and 1. Lower the better.\n",
        "        \"\"\"\n",
        "\n",
        "        cer_score = 0\n",
        "\n",
        "        for yi_true, yi_pred in zip(y_true, y_pred):\n",
        "            yi_true, yi_pred = cls.decompose(yi_true), cls.decompose(yi_pred)\n",
        "            c_ins_del, c_sub, c_noop = cls.levenshtein_distance(yi_true, yi_pred)\n",
        "            cer_score += (c_ins_del + c_sub) / (c_ins_del + c_sub + c_noop)\n",
        "\n",
        "        return cer_score / len(y_true)\n",
        "\n",
        "    def token_error_rate(self, y_true, y_pred):\n",
        "        \"\"\" Computes the token level error rate (TER) of the set of\n",
        "            predictions against the reference translations.\n",
        "\n",
        "        Args:\n",
        "            y_true (list[str]): Actual translations.\n",
        "            y_pred (list[str]): Generated translations.\n",
        "\n",
        "        Returns:\n",
        "            float: TER score, between 0 and 1. Lower the better.\n",
        "        \"\"\"\n",
        "\n",
        "        ter_score = 0\n",
        "\n",
        "        for yi_true, yi_pred in zip(y_true, y_pred):\n",
        "            yi_true = self.tgt_tokenizer.encode(yi_true, add_start=False, add_end=False)\n",
        "            yi_pred = self.tgt_tokenizer.encode(yi_pred, add_start=False, add_end=False)\n",
        "            t_ins_del, t_sub, t_noop = self.levenshtein_distance(yi_true, yi_pred)\n",
        "            ter_score += (t_ins_del + t_sub) / (t_ins_del + t_sub + t_noop)\n",
        "\n",
        "        return ter_score / len(y_true)\n",
        "\n",
        "    @classmethod\n",
        "    def bleu_score(cls, y_true, y_pred):\n",
        "        \"\"\" Computes the average BLEU score of the set of predictions against the reference translations.\n",
        "\n",
        "            Uses default parameters and equal weights for all n-grams, with max N = 4. (Thus computes BLEU-4).\n",
        "            Uses a smoothing method for the case of missing n-grams.\n",
        "\n",
        "        Args:\n",
        "            y_true (list[str]): Actual translations.\n",
        "            y_pred (list[str]): Generated translations.\n",
        "\n",
        "        Returns:\n",
        "            float: BLEU-4 score, the higher the better.\n",
        "        \"\"\"\n",
        "\n",
        "        y_true = [ [ cls.decompose(yi) ] for yi in y_true ]\n",
        "        y_pred = [ cls.decompose(yi) for yi in y_pred ]\n",
        "\n",
        "        smoothing = bleu_score.SmoothingFunction()\n",
        "\n",
        "        return bleu_score.corpus_bleu(\n",
        "            y_true, y_pred,\n",
        "            smoothing_function=smoothing.method1\n",
        "        )\n",
        "\n",
        "    def evaluate(self, model_path, data, reference_outputs, **decoding_kwargs):\n",
        "        \"\"\" Performs the evaluation of a specified model over given data.\n",
        "\n",
        "        Args:\n",
        "            model_path (str): Path to load the model from. Must have a model.pt file.\n",
        "            data (list[str]): List of input strings to translate.\n",
        "            reference_outputs (list[str]): List of output strings to use as reference.\n",
        "            decoding_kwargs (dict[str, any]): Additional arguments to forward to the decoding method.\n",
        "                This could be for instance, max_length for a greedy decoding method.\n",
        "\n",
        "        Raises:\n",
        "            ValueError: If the decoding method is not set apriori.\n",
        "        \"\"\"\n",
        "\n",
        "        if self.decoding_method is None:\n",
        "            raise ValueError(f\"{self.evaluate.__name__}: no decoding method is set, assign before use.\")\n",
        "\n",
        "        # Load the model to the active device.\n",
        "        model = torch.load(os.path.join(model_path, 'model.pt'), map_location=self.device, weights_only=False)\n",
        "\n",
        "        # Set model use parameters.\n",
        "        model.to(self.device)\n",
        "        model.eval()\n",
        "\n",
        "        # Generate outputs.\n",
        "        generated_outputs = []\n",
        "        with torch.no_grad():\n",
        "            for seq_x in data:\n",
        "                generated_outputs.append(self.decoding_method(\n",
        "                    model, seq_x, self.src_tokenizer,\n",
        "                    self.tgt_tokenizer, **decoding_kwargs\n",
        "                ))\n",
        "\n",
        "        accuracy_score = self.accuracy(reference_outputs, generated_outputs)\n",
        "        cer_score      = self.char_error_rate(reference_outputs, generated_outputs)\n",
        "        ter_score      = self.token_error_rate(reference_outputs, generated_outputs)\n",
        "        blue_score     = self.bleu_score(reference_outputs, generated_outputs)\n",
        "\n",
        "        print(\"EVALUATION:\", \">\", \"accuracy:\", f\"{accuracy_score:.2%}\")\n",
        "        print(\"EVALUATION:\", \">\", \"CER     :\", f\"{cer_score:.2%}\")\n",
        "        print(\"EVALUATION:\", \">\", \"TER     :\", f\"{ter_score:.2%}\")\n",
        "        print(\"EVALUATION:\", \">\", \"BLEU    :\", f\"{blue_score:.4f}\")\n",
        "        print()\n",
        "\n",
        "        # Free resources once evaluation is complete.\n",
        "        del model\n",
        "        sync_vram()"
      ]
    },
    {
      "cell_type": "code",
      "execution_count": 44,
      "metadata": {
        "id": "R3DxXlLm7S1X"
      },
      "outputs": [
        {
          "name": "stdout",
          "output_type": "stream",
          "text": [
            "EVALUATION: enc-dec-rnn\n",
            "EVALUATION: > accuracy: 39.25%\n",
            "EVALUATION: > CER     : 15.97%\n",
            "EVALUATION: > TER     : 28.35%\n",
            "EVALUATION: > BLEU    : 0.6805\n",
            "\n",
            "EVALUATION: enc-dec-rnn-attn\n",
            "EVALUATION: > accuracy: 39.25%\n",
            "EVALUATION: > CER     : 15.36%\n",
            "EVALUATION: > TER     : 27.67%\n",
            "EVALUATION: > BLEU    : 0.7053\n",
            "\n"
          ]
        }
      ],
      "source": [
        "# Please do not change anything in the following cell.\n",
        "\n",
        "evaluator = Evaluator(src_tokenizer, tgt_tokenizer)\n",
        "\n",
        "# Use greedy decoding for producing outputs.\n",
        "evaluator.set_decoding_method(rnn_greedy_generate)\n",
        "\n",
        "# Evaluate enc-dec-rnn\n",
        "print(\"EVALUATION:\", \"enc-dec-rnn\")\n",
        "evaluator.evaluate(\n",
        "    os.path.join(DIRECTORY_NAME, \"rnn.enc-dec\"),\n",
        "    validation_data['Name'], validation_data['Translation'],\n",
        "    max_length = rnn_enc_dec_data_params['tgt_padding']\n",
        ")\n",
        "\n",
        "# Evaluate enc-dec-rnn-attn\n",
        "print(\"EVALUATION:\", \"enc-dec-rnn-attn\")\n",
        "evaluator.evaluate(\n",
        "    os.path.join(DIRECTORY_NAME, \"rnn.enc-dec.attn\"),\n",
        "    validation_data['Name'], validation_data['Translation'],\n",
        "    max_length = rnn_enc_dec_attn_data_params['tgt_padding']\n",
        ")"
      ]
    },
    {
      "cell_type": "markdown",
      "metadata": {
        "id": "jfI3NL8w7S1Y"
      },
      "source": [
        "## Decoding Strategy"
      ]
    },
    {
      "cell_type": "markdown",
      "metadata": {
        "id": "scHoXxoi7S1Y"
      },
      "source": [
        "A conditional language model aims to learn $P_\\theta(y | x)$, that is, the probability of the target sequence being $y$ when the input sequence is $x$. This is modeled as $P_{\\theta}(y | x) = \\prod_{i=1}^{|y|} {P_\\theta(y_i | x, y_{1:i-1})}$.\n",
        "\n",
        "For translation, our goal is to find the sequence that maximizes this conditional probability, i.e. $y^* = \\arg \\max_{y} P_\\theta(y | x)$. $y^*$ is then the 'best' translation for the input sequence $x$. However, computing probabilities for all possible $y$ to find the maximizer is intractable. As a result, decoding strategies are employed to produce reasonable approximations of $y^*$.\n",
        "\n",
        "In the last module, you evaluated your models through different metrics, but the approach for generating outputs from the model was fixed to greedy decoding, where at each time step, the token to be produced is determined by $y_{i,greedy} := \\arg \\max_{y_i} P(y_i| x, y_{1:i-1})$. While this approach is fast, $P(y_{greedy}|x)$ may be much less than $P(y^*|x)$. Fortunately, better decoding strategies exist to produce better approximations, however at the cost of higher time complexity. One such strategy is:\n",
        "\n",
        "- **Beam-Search Decoding**: At every time step, retains $k$ candidate token generations, which are decoded individually (each path is referred as a beam) to obtain $k$ successors per beam. For the next time step, the best $k$ candidates are retained such that conditional probability of the sequence generated so far is maximized. Has a complexity of $O(kV|y|)$, where $V$ is the size of the target vocabulary, and $|y|$ is the target sequence length. Using $k=1$ makes it equivalent to greedy decoding. Implementations also employ length penalties to not be biased towards larger target sequences.\n",
        "\n",
        "In the next cell, you will implement the above explained Beam-Search Decoding decoding strategy."
      ]
    },
    {
      "cell_type": "code",
      "execution_count": 45,
      "metadata": {
        "id": "x4sw-Wrb7S1Z"
      },
      "outputs": [],
      "source": [
        "## ==== BEGIN EVALUATION PORTION\n",
        "\n",
        "# Feel free to add additional parameters to rnn_better_generate, such as k for Beam Search Decoding.\n",
        "def rnn_better_generate(model, seq_x, src_tokenizer, tgt_tokenizer, max_length, k=5, length_penalty_alpha=0.6):\n",
        "    \"\"\" Given a source string, translate it to the target language using the trained model.\n",
        "        This function should use a better decoding strategy than greedy decoding (see above) to generate the results.\n",
        "\n",
        "    Args:\n",
        "        model (nn.Module): RNN Type Encoder-Decoder Model\n",
        "        seq_x (str): Input string to translate.\n",
        "        src_tokenizer (Tokenizer): Source language tokenizer.\n",
        "        tgt_tokenizer (Tokenizer): Target language tokenizer.\n",
        "        max_length (int): Maximum length of the target sequence to decode.\n",
        "\n",
        "    Returns:\n",
        "        str: Generated string for the given input in the target language.\n",
        "    \"\"\"\n",
        "\n",
        "    # BEGIN CODE : enc-dec-rnn.better_generate\n",
        "\n",
        "    # ADD YOUR CODE HERE\n",
        "    model.eval()\n",
        "\n",
        "    src_tokens = src_tokenizer.encode(seq_x, add_start=True, add_end=True)\n",
        "    src_tensor = torch.tensor([src_tokens], device=model.device)\n",
        "    eos_id = tgt_tokenizer.get_special_tokens()['[EOS]']\n",
        "    bos_id = tgt_tokenizer.get_special_tokens()['[BOS]']\n",
        "\n",
        "    with torch.no_grad():\n",
        "        encoder_emb = model.encoder_embed(src_tensor)\n",
        "        encoder_outputs, hidden = model.encoder_rnn(encoder_emb)\n",
        "\n",
        "    beams = [(0.0, [bos_id], hidden, None)]\n",
        "    result_array = []\n",
        "\n",
        "    for _ in range(max_length):\n",
        "        total_beams = []\n",
        "        for score, seq, a, _ in beams:\n",
        "            if seq[-1] == eos_id:\n",
        "                result_array.append((score, seq))\n",
        "                continue\n",
        "\n",
        "            decoder_input = torch.tensor([[seq[-1]]], device=model.device)\n",
        "            embedded = model.decoder_embed(decoder_input)\n",
        "            if hasattr(model, \"attention\"):\n",
        "                decoder_hidden_last_state = a[-1].unsqueeze(1)\n",
        "                attention_wts = model.attention(encoder_outputs, decoder_hidden_last_state)\n",
        "                attention_wts = attention_wts.unsqueeze(1)\n",
        "                context = torch.bmm(attention_wts, encoder_outputs)\n",
        "                input_to_rnn = torch.cat((embedded, context), dim=2)\n",
        "            else:\n",
        "                input_to_rnn = embedded\n",
        "\n",
        "            output, new_hidden_state = model.decoder_rnn(input_to_rnn, a)\n",
        "\n",
        "            if hasattr(model, \"attention\"):\n",
        "                output = torch.cat((output, context), dim=2)\n",
        "\n",
        "            logits = model.fc_out(output.squeeze(1))\n",
        "            log_probs = torch.log_softmax(logits, dim=-1).squeeze(0)\n",
        "            topk_probs, top_k_tokens = torch.topk(log_probs, k)\n",
        "\n",
        "            for log_prob, token in zip(topk_probs, top_k_tokens):\n",
        "                text = seq + [token.item()]\n",
        "                total_score = score + log_prob.item()\n",
        "                total_beams.append((total_score,text, new_hidden_state, None))\n",
        "\n",
        "        beams=sorted(total_beams, key=lambda x: x[0] / ((len(x[1])+5) ** length_penalty_alpha), reverse=True)[:k]\n",
        "\n",
        "        if all(sequence[-1] == eos_id for _, sequence, _, _ in beams):\n",
        "            result_array.extend([(score, sequence) for score, sequence, _, _ in beams])\n",
        "            break\n",
        "\n",
        "    if result_array:\n",
        "        best = max(result_array, key=lambda i: i[0]/((len(i[1])+5) ** length_penalty_alpha))\n",
        "    else:\n",
        "        best = max(beams, key=lambda i: i[0]/((5+len(i[1])) ** length_penalty_alpha))\n",
        "\n",
        "    output_tokens = best[1][1:]\n",
        "    return tgt_tokenizer.decode(output_tokens, strip_special=True)\n",
        "    # END CODE\n",
        "\n",
        "## ==== END EVALUATION PORTION"
      ]
    },
    {
      "cell_type": "code",
      "execution_count": 46,
      "metadata": {
        "id": "PhMFQmhY7S1Z"
      },
      "outputs": [],
      "source": [
        "## ==== BEGIN EVALUATION PORTION\n",
        "\n",
        "# BEGIN CODE : decoding.init\n",
        "\n",
        "# Add parameter values for your decoding strategy here. Leave empty if unused.\n",
        "\n",
        "decoding_params = dict(\n",
        "    # ADD YOUR CODE HERE\n",
        "    k = 7,\n",
        "    length_penalty_alpha = 0.3\n",
        ")\n",
        "\n",
        "## ==== END EVALUATION PORTION"
      ]
    },
    {
      "cell_type": "code",
      "execution_count": 47,
      "metadata": {
        "id": "aOwxnBIC7S1a"
      },
      "outputs": [
        {
          "name": "stdout",
          "output_type": "stream",
          "text": [
            "EVALUATION: enc-dec-rnn\n",
            "EVALUATION: > accuracy: 41.00%\n",
            "EVALUATION: > CER     : 14.62%\n",
            "EVALUATION: > TER     : 27.15%\n",
            "EVALUATION: > BLEU    : 0.6949\n",
            "\n",
            "EVALUATION: enc-dec-rnn-attn\n",
            "EVALUATION: > accuracy: 42.00%\n",
            "EVALUATION: > CER     : 13.92%\n",
            "EVALUATION: > TER     : 25.69%\n",
            "EVALUATION: > BLEU    : 0.7201\n",
            "\n"
          ]
        }
      ],
      "source": [
        "# Please do not change anything in the following cell.\n",
        "\n",
        "evaluator = Evaluator(src_tokenizer, tgt_tokenizer)\n",
        "evaluator.set_decoding_method(rnn_better_generate)\n",
        "\n",
        "# Evaluate enc-dec-rnn\n",
        "print(\"EVALUATION:\", \"enc-dec-rnn\")\n",
        "evaluator.evaluate(\n",
        "    os.path.join(DIRECTORY_NAME, \"rnn.enc-dec\"),\n",
        "    validation_data['Name'], validation_data['Translation'],\n",
        "    max_length = rnn_enc_dec_data_params['tgt_padding'],\n",
        "    **decoding_params\n",
        ")\n",
        "\n",
        "# Evaluate enc-dec-rnn-attn\n",
        "print(\"EVALUATION:\", \"enc-dec-rnn-attn\")\n",
        "evaluator.evaluate(\n",
        "    os.path.join(DIRECTORY_NAME, \"rnn.enc-dec.attn\"),\n",
        "    validation_data['Name'], validation_data['Translation'],\n",
        "    max_length = rnn_enc_dec_attn_data_params['tgt_padding'],\n",
        "    **decoding_params\n",
        ")"
      ]
    },
    {
      "cell_type": "markdown",
      "metadata": {
        "id": "yHm5Di5V7S1a"
      },
      "source": [
        "## Congratulations!"
      ]
    },
    {
      "cell_type": "markdown",
      "metadata": {
        "id": "kxGerFZH7S1b"
      },
      "source": [
        "You have reached the end of the last assignment! Hope this was a fun exercise!\n",
        "\n",
        "Once you've run the cells above, you should be ready to submit the assignment."
      ]
    }
  ],
  "metadata": {
    "colab": {
      "provenance": []
    },
    "kernelspec": {
      "display_name": "Python 3",
      "language": "python",
      "name": "python3"
    },
    "language_info": {
      "codemirror_mode": {
        "name": "ipython",
        "version": 3
      },
      "file_extension": ".py",
      "mimetype": "text/x-python",
      "name": "python",
      "nbconvert_exporter": "python",
      "pygments_lexer": "ipython3",
      "version": "3.8.10"
    }
  },
  "nbformat": 4,
  "nbformat_minor": 0
}
